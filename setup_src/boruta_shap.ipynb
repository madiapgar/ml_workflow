{
 "cells": [
  {
   "cell_type": "markdown",
   "metadata": {},
   "source": [
    "# **Boruta Shap Feature Analysis**\n",
    "**what I want to learn:**\n",
    "- **which features (taxonomic families) are important to blooms at day 3?**\n",
    "\n",
    "**k fold cross validation documentation:**\n",
    "- https://scikit-learn.org/stable/modules/generated/sklearn.model_selection.KFold.html"
   ]
  },
  {
   "cell_type": "markdown",
   "metadata": {},
   "source": [
    "**Needed libraries**"
   ]
  },
  {
   "cell_type": "code",
   "execution_count": 1,
   "metadata": {},
   "outputs": [],
   "source": [
    "import pandas as pd\n",
    "import numpy as np\n",
    "from BorutaShap import BorutaShap\n",
    "from sklearn.model_selection import train_test_split\n",
    "from sklearn.model_selection import KFold\n",
    "from sklearn.ensemble import (RandomForestClassifier, GradientBoostingClassifier)"
   ]
  },
  {
   "cell_type": "markdown",
   "metadata": {},
   "source": [
    "**Functions**"
   ]
  },
  {
   "cell_type": "code",
   "execution_count": 2,
   "metadata": {},
   "outputs": [],
   "source": [
    "## generate x and y dataframes for machine learning and/or boruta shap/kfold cross validation\n",
    "def make_xy_tables(meta_df,\n",
    "                   otu_df,\n",
    "                   merge_on,\n",
    "                   y_col):\n",
    "    output_dict = {}\n",
    "    \n",
    "    mini_meta = meta_df.loc[:, (merge_on, y_col)]\n",
    "    comb_df = otu_df.merge(mini_meta, how=\"left\", on=[merge_on])\n",
    "    ## x - the side that has the data I want the model to use to predict y\n",
    "    pre_x_df = comb_df.copy()\n",
    "    x_df = pre_x_df.drop(y_col, axis=1)\n",
    "    x_df[merge_on] = x_df[merge_on].astype(float)\n",
    "    x_df = x_df.drop(merge_on, axis=1)\n",
    "    ## y - what is to be predicted\n",
    "    y_df = comb_df[y_col]\n",
    "\n",
    "    ## saving my outputs\n",
    "    output_dict.update({\"x_dataframe\": x_df,\n",
    "                        \"y_dataframe\": y_df})\n",
    "    return(output_dict)\n",
    "\n",
    "\n",
    "## run kfold cross validation on x and y datasets and then identify important features via boruta shap\n",
    "def kfold_boruta_shap(k_fold,\n",
    "                      feature_selector,\n",
    "                      x_dataframe,\n",
    "                      y_dataframe,\n",
    "                      trial_num,\n",
    "                      run_name):\n",
    "    output_dict = {}\n",
    "\n",
    "    train_list = []\n",
    "    test_list = []\n",
    "    for i, (train_index, test_index) in enumerate(k_fold.split(x_dataframe, y_dataframe)):\n",
    "        print(f\"Fold {i}:\")\n",
    "        print(f\"Training dataset index: {train_index}\")\n",
    "        print(f\"Testing dataset index: {test_index}\")\n",
    "        ## setting up test/train datasets \n",
    "        x_train = x_dataframe.filter(items=train_index, axis=0)\n",
    "        x_test = x_dataframe.filter(items=test_index, axis=0)\n",
    "        y_train = y_dataframe.filter(items=train_index, axis=0)\n",
    "        y_test = y_dataframe.filter(items=test_index, axis=0)\n",
    "\n",
    "        ## running boruta shap on training data\n",
    "        feature_selector.fit(X=x_train,\n",
    "                             y=y_train, \n",
    "                             n_trials=trial_num,\n",
    "                             random_state=0,\n",
    "                             sample=False,\n",
    "                             verbose=True)\n",
    "        \n",
    "        train_acc_features = feature_selector.accepted\n",
    "        train_list = train_list + train_acc_features\n",
    "        \n",
    "        ## running borta shap on testing data\n",
    "        feature_selector.fit(X=x_test,\n",
    "                             y=y_test, \n",
    "                             n_trials=trial_num,\n",
    "                             random_state=0,\n",
    "                             sample=False,\n",
    "                             verbose=True)\n",
    "        \n",
    "        test_acc_features = feature_selector.accepted\n",
    "        test_list = test_list + test_acc_features\n",
    "\n",
    "    ## saving my outputs\n",
    "    output_dict.update({f\"{run_name}_train\": train_list,\n",
    "                        f\"{run_name}_test\": test_list})\n",
    "    return(output_dict)\n",
    "\n",
    "\n",
    "## to make the output table of the kfold cross validated boruta shap results\n",
    "def create_occurence_table(input_list):\n",
    "    wanted_df = pd.DataFrame(np.unique(input_list, return_counts=True)).T\n",
    "    wanted_df.columns = [\"feature\", \"num_occurences\"]\n",
    "    wanted_df = wanted_df.sort_values(by=\"num_occurences\", ascending=False)\n",
    "    wanted_df[\"av_occurences\"] = wanted_df[\"num_occurences\"]/5\n",
    "    return(wanted_df) "
   ]
  },
  {
   "cell_type": "markdown",
   "metadata": {},
   "source": [
    "**File paths**"
   ]
  },
  {
   "cell_type": "code",
   "execution_count": 4,
   "metadata": {},
   "outputs": [],
   "source": [
    "family_deltas_fp = \"../data/family_deltas_wide.tsv\"\n",
    "meta_fp = \"../data/ml_approved_metadata.tsv\"\n",
    "meta_keys_fp = \"../data/meta_dict_keys.tsv\"\n",
    "\n",
    "## common variables for functions\n",
    "bs_cols = ['family', 'num_occurences']\n",
    "bs_sort_by = 'num_occurences'\n",
    "\n",
    "## cross validator and boruta shap \n",
    "kf = KFold(n_splits=5)\n",
    "grad_boost = GradientBoostingClassifier(n_estimators=100)\n",
    "random_forest_bs = BorutaShap(importance_measure='shap', \n",
    "                           classification=False)\n",
    "grad_boost_bs = BorutaShap(model=grad_boost,\n",
    "                        importance_measure='shap',\n",
    "                        classification=True)\n",
    "borutaShap_dict = {\"random_forest\": random_forest_bs}"
   ]
  },
  {
   "cell_type": "markdown",
   "metadata": {},
   "source": [
    "**Reading in files and data wrangling**"
   ]
  },
  {
   "cell_type": "code",
   "execution_count": 5,
   "metadata": {},
   "outputs": [],
   "source": [
    "family_deltas_df = pd.read_csv(family_deltas_fp, sep='\\t')\n",
    "meta = pd.read_csv(meta_fp, sep='\\t')\n",
    "meta_keys = pd.read_csv(meta_keys_fp, sep='\\t')"
   ]
  },
  {
   "cell_type": "code",
   "execution_count": 5,
   "metadata": {},
   "outputs": [],
   "source": [
    "## pulling out mouse id assigned numbers as a dictionary to map it to the deltas table\n",
    "mouse_id_dict = dict(zip(meta_keys.mouse_id, meta_keys.assigned_num))\n",
    "inverse_mouseID_dict = dict(zip(meta_keys.assigned_num, meta_keys.mouse_id))"
   ]
  },
  {
   "cell_type": "code",
   "execution_count": 9,
   "metadata": {},
   "outputs": [],
   "source": [
    "## converting mouse ids in the deltas table to the same numbers as the metadata\n",
    "family_deltas_df[\"mouse_id\"] = family_deltas_df[\"mouse_id\"].map(mouse_id_dict)"
   ]
  },
  {
   "cell_type": "markdown",
   "metadata": {},
   "source": [
    "## Bloom Status"
   ]
  },
  {
   "cell_type": "code",
   "execution_count": 6,
   "metadata": {},
   "outputs": [],
   "source": [
    "## more data wrangling bc why not i love it!!! (that's sarcasm)\n",
    "## im actually just generating my x and y dataframes \n",
    "bloom_xy = make_xy_tables(meta_df=meta,\n",
    "                          otu_df=family_deltas_df,\n",
    "                          merge_on=\"mouse_id\",\n",
    "                          y_col=\"bloom_status\")\n",
    "\n",
    "bloom_x_df = bloom_xy[\"x_dataframe\"]\n",
    "bloom_y_df = bloom_xy[\"y_dataframe\"]"
   ]
  },
  {
   "cell_type": "code",
   "execution_count": 8,
   "metadata": {},
   "outputs": [
    {
     "name": "stdout",
     "output_type": "stream",
     "text": [
      "Fold 0:\n",
      "Training dataset index: [10 11 12 13 14 15 16 17 18 19 20 21 22 23 24 25 26 27 28 29 30 31 32 33\n",
      " 34 35 36 37 38 39 40 41 42 43 44 45 46 47 48 49]\n",
      "Testing dataset index: [0 1 2 3 4 5 6 7 8 9]\n"
     ]
    },
    {
     "data": {
      "application/vnd.jupyter.widget-view+json": {
       "model_id": "046644472b7546938284b9b9f2e77c73",
       "version_major": 2,
       "version_minor": 0
      },
      "text/plain": [
       "  0%|          | 0/100 [00:00<?, ?it/s]"
      ]
     },
     "metadata": {},
     "output_type": "display_data"
    },
    {
     "name": "stdout",
     "output_type": "stream",
     "text": [
      "5 attributes confirmed important: [' f__Akkermansiaceae', ' f__Peptostreptococcaceae', ' f__Erysipelotrichaceae', ' f__[Eubacterium]_coprostanoligenes_group', ' f__Enterobacteriaceae']\n",
      "46 attributes confirmed unimportant: [' f__Prevotellaceae', ' f__Deferribacteraceae', ' f__Acholeplasmataceae', ' f__Oscillospiraceae', ' f__Sutterellaceae', ' f__Erysipelatoclostridiaceae', ' f__Lachnospiraceae', ' f__Moraxellaceae', ' f__Anaerovoracaceae', ' f__Desulfovibrionaceae', ' f__Saccharimonadaceae', ' f__Bifidobacteriaceae', ' f__Bacillaceae', ' f__Muribaculaceae', ' f__Moorellaceae', ' f__Peptococcaceae', ' f__Streptococcaceae', ' f__Hungateiclostridiaceae', ' f__Morganellaceae', ' f__Oscillospirales', ' f__Weeksellaceae', ' f__uncultured', ' f__Monoglobaceae', ' f__Lactobacillaceae', ' f__Rikenellaceae', ' f__Enterococcaceae', ' f__Sphingomonadaceae', ' f__Clostridia_UCG-014', ' f__Christensenellaceae', ' f__Tannerellaceae', ' f__Anaerofustaceae', ' f__Marinifilaceae', ' f__RF39', ' f__Ruminococcaceae', ' f__Xanthomonadaceae', ' f__Butyricicoccaceae', ' f__Eggerthellaceae', ' f__AKAU3644', ' f__Clostridiaceae', ' f__Clostridia_vadinBB60_group', ' f__Spirosomaceae', ' f__Bacteroidaceae', ' f__Beggiatoaceae', ' f__Gastranaerophilales', ' f__Atopobiaceae', ' f__Alicyclobacillaceae']\n",
      "1 tentative attributes remains: [' f__UCG-010']\n"
     ]
    },
    {
     "data": {
      "application/vnd.jupyter.widget-view+json": {
       "model_id": "a7529e7ddeea4b489ab7c38dc1de7545",
       "version_major": 2,
       "version_minor": 0
      },
      "text/plain": [
       "  0%|          | 0/100 [00:00<?, ?it/s]"
      ]
     },
     "metadata": {},
     "output_type": "display_data"
    },
    {
     "name": "stdout",
     "output_type": "stream",
     "text": [
      "1 attributes confirmed important: [' f__Enterococcaceae']\n",
      "51 attributes confirmed unimportant: [' f__Peptostreptococcaceae', ' f__Prevotellaceae', ' f__Deferribacteraceae', ' f__Acholeplasmataceae', ' f__Oscillospiraceae', ' f__Sutterellaceae', ' f__Enterobacteriaceae', ' f__Erysipelatoclostridiaceae', ' f__Lachnospiraceae', ' f__Moraxellaceae', ' f__Anaerovoracaceae', ' f__Desulfovibrionaceae', ' f__Saccharimonadaceae', ' f__Bifidobacteriaceae', ' f__Bacillaceae', ' f__Muribaculaceae', ' f__Moorellaceae', ' f__Peptococcaceae', ' f__Streptococcaceae', ' f__Hungateiclostridiaceae', ' f__Morganellaceae', ' f__Oscillospirales', ' f__Weeksellaceae', ' f__uncultured', ' f__Monoglobaceae', ' f__Lactobacillaceae', ' f__Erysipelotrichaceae', ' f__Rikenellaceae', ' f__Sphingomonadaceae', ' f__UCG-010', ' f__Clostridia_UCG-014', ' f__Christensenellaceae', ' f__Tannerellaceae', ' f__Anaerofustaceae', ' f__Marinifilaceae', ' f__RF39', ' f__Ruminococcaceae', ' f__Xanthomonadaceae', ' f__Akkermansiaceae', ' f__Butyricicoccaceae', ' f__Eggerthellaceae', ' f__AKAU3644', ' f__Clostridiaceae', ' f__Clostridia_vadinBB60_group', ' f__[Eubacterium]_coprostanoligenes_group', ' f__Spirosomaceae', ' f__Bacteroidaceae', ' f__Beggiatoaceae', ' f__Gastranaerophilales', ' f__Atopobiaceae', ' f__Alicyclobacillaceae']\n",
      "0 tentative attributes remains: []\n",
      "Fold 1:\n",
      "Training dataset index: [ 0  1  2  3  4  5  6  7  8  9 20 21 22 23 24 25 26 27 28 29 30 31 32 33\n",
      " 34 35 36 37 38 39 40 41 42 43 44 45 46 47 48 49]\n",
      "Testing dataset index: [10 11 12 13 14 15 16 17 18 19]\n"
     ]
    },
    {
     "data": {
      "application/vnd.jupyter.widget-view+json": {
       "model_id": "6759677806284d14856e6c1e4f822ba7",
       "version_major": 2,
       "version_minor": 0
      },
      "text/plain": [
       "  0%|          | 0/100 [00:00<?, ?it/s]"
      ]
     },
     "metadata": {},
     "output_type": "display_data"
    },
    {
     "name": "stdout",
     "output_type": "stream",
     "text": [
      "5 attributes confirmed important: [' f__Akkermansiaceae', ' f__Peptostreptococcaceae', ' f__Erysipelotrichaceae', ' f__UCG-010', ' f__Enterobacteriaceae']\n",
      "47 attributes confirmed unimportant: [' f__Prevotellaceae', ' f__Deferribacteraceae', ' f__Acholeplasmataceae', ' f__Oscillospiraceae', ' f__Sutterellaceae', ' f__Erysipelatoclostridiaceae', ' f__Lachnospiraceae', ' f__Moraxellaceae', ' f__Anaerovoracaceae', ' f__Desulfovibrionaceae', ' f__Saccharimonadaceae', ' f__Bifidobacteriaceae', ' f__Bacillaceae', ' f__Muribaculaceae', ' f__Moorellaceae', ' f__Peptococcaceae', ' f__Streptococcaceae', ' f__Hungateiclostridiaceae', ' f__Morganellaceae', ' f__Oscillospirales', ' f__Weeksellaceae', ' f__uncultured', ' f__Monoglobaceae', ' f__Lactobacillaceae', ' f__Rikenellaceae', ' f__Enterococcaceae', ' f__Sphingomonadaceae', ' f__Clostridia_UCG-014', ' f__Christensenellaceae', ' f__Tannerellaceae', ' f__Anaerofustaceae', ' f__Marinifilaceae', ' f__RF39', ' f__Ruminococcaceae', ' f__Xanthomonadaceae', ' f__Butyricicoccaceae', ' f__Eggerthellaceae', ' f__AKAU3644', ' f__Clostridiaceae', ' f__Clostridia_vadinBB60_group', ' f__[Eubacterium]_coprostanoligenes_group', ' f__Spirosomaceae', ' f__Bacteroidaceae', ' f__Beggiatoaceae', ' f__Gastranaerophilales', ' f__Atopobiaceae', ' f__Alicyclobacillaceae']\n",
      "0 tentative attributes remains: []\n"
     ]
    },
    {
     "data": {
      "application/vnd.jupyter.widget-view+json": {
       "model_id": "cb4be6c4f067469a8f8d9ed922f1e762",
       "version_major": 2,
       "version_minor": 0
      },
      "text/plain": [
       "  0%|          | 0/100 [00:00<?, ?it/s]"
      ]
     },
     "metadata": {},
     "output_type": "display_data"
    },
    {
     "name": "stdout",
     "output_type": "stream",
     "text": [
      "4 attributes confirmed important: [' f__Enterococcaceae', ' f__Peptostreptococcaceae', ' f__Erysipelotrichaceae', ' f__Tannerellaceae']\n",
      "48 attributes confirmed unimportant: [' f__Prevotellaceae', ' f__Deferribacteraceae', ' f__Acholeplasmataceae', ' f__Oscillospiraceae', ' f__Sutterellaceae', ' f__Enterobacteriaceae', ' f__Erysipelatoclostridiaceae', ' f__Lachnospiraceae', ' f__Moraxellaceae', ' f__Anaerovoracaceae', ' f__Desulfovibrionaceae', ' f__Saccharimonadaceae', ' f__Bifidobacteriaceae', ' f__Bacillaceae', ' f__Muribaculaceae', ' f__Moorellaceae', ' f__Peptococcaceae', ' f__Streptococcaceae', ' f__Hungateiclostridiaceae', ' f__Morganellaceae', ' f__Oscillospirales', ' f__Weeksellaceae', ' f__uncultured', ' f__Monoglobaceae', ' f__Lactobacillaceae', ' f__Rikenellaceae', ' f__Sphingomonadaceae', ' f__UCG-010', ' f__Clostridia_UCG-014', ' f__Christensenellaceae', ' f__Anaerofustaceae', ' f__Marinifilaceae', ' f__RF39', ' f__Ruminococcaceae', ' f__Xanthomonadaceae', ' f__Eggerthellaceae', ' f__Akkermansiaceae', ' f__Butyricicoccaceae', ' f__AKAU3644', ' f__Clostridiaceae', ' f__Clostridia_vadinBB60_group', ' f__[Eubacterium]_coprostanoligenes_group', ' f__Spirosomaceae', ' f__Bacteroidaceae', ' f__Beggiatoaceae', ' f__Gastranaerophilales', ' f__Atopobiaceae', ' f__Alicyclobacillaceae']\n",
      "0 tentative attributes remains: []\n",
      "Fold 2:\n",
      "Training dataset index: [ 0  1  2  3  4  5  6  7  8  9 10 11 12 13 14 15 16 17 18 19 30 31 32 33\n",
      " 34 35 36 37 38 39 40 41 42 43 44 45 46 47 48 49]\n",
      "Testing dataset index: [20 21 22 23 24 25 26 27 28 29]\n"
     ]
    },
    {
     "data": {
      "application/vnd.jupyter.widget-view+json": {
       "model_id": "b957b3de880648c98de00c74d05c6197",
       "version_major": 2,
       "version_minor": 0
      },
      "text/plain": [
       "  0%|          | 0/100 [00:00<?, ?it/s]"
      ]
     },
     "metadata": {},
     "output_type": "display_data"
    },
    {
     "name": "stdout",
     "output_type": "stream",
     "text": [
      "6 attributes confirmed important: [' f__Akkermansiaceae', ' f__Peptostreptococcaceae', ' f__UCG-010', ' f__Clostridia_UCG-014', ' f__[Eubacterium]_coprostanoligenes_group', ' f__RF39']\n",
      "45 attributes confirmed unimportant: [' f__Prevotellaceae', ' f__Deferribacteraceae', ' f__Oscillospiraceae', ' f__Sutterellaceae', ' f__Acholeplasmataceae', ' f__Enterobacteriaceae', ' f__Erysipelatoclostridiaceae', ' f__Lachnospiraceae', ' f__Moraxellaceae', ' f__Anaerovoracaceae', ' f__Desulfovibrionaceae', ' f__Saccharimonadaceae', ' f__Bifidobacteriaceae', ' f__Bacillaceae', ' f__Muribaculaceae', ' f__Moorellaceae', ' f__Peptococcaceae', ' f__Streptococcaceae', ' f__Hungateiclostridiaceae', ' f__Morganellaceae', ' f__Oscillospirales', ' f__Weeksellaceae', ' f__uncultured', ' f__Monoglobaceae', ' f__Lactobacillaceae', ' f__Erysipelotrichaceae', ' f__Rikenellaceae', ' f__Sphingomonadaceae', ' f__Enterococcaceae', ' f__Christensenellaceae', ' f__Anaerofustaceae', ' f__Marinifilaceae', ' f__Ruminococcaceae', ' f__Xanthomonadaceae', ' f__Butyricicoccaceae', ' f__Eggerthellaceae', ' f__AKAU3644', ' f__Clostridiaceae', ' f__Clostridia_vadinBB60_group', ' f__Spirosomaceae', ' f__Bacteroidaceae', ' f__Beggiatoaceae', ' f__Gastranaerophilales', ' f__Atopobiaceae', ' f__Alicyclobacillaceae']\n",
      "1 tentative attributes remains: [' f__Tannerellaceae']\n"
     ]
    },
    {
     "data": {
      "application/vnd.jupyter.widget-view+json": {
       "model_id": "64d462d0d03a417ea52ac20d44e5b2e8",
       "version_major": 2,
       "version_minor": 0
      },
      "text/plain": [
       "  0%|          | 0/100 [00:00<?, ?it/s]"
      ]
     },
     "metadata": {},
     "output_type": "display_data"
    },
    {
     "name": "stdout",
     "output_type": "stream",
     "text": [
      "2 attributes confirmed important: [' f__Eggerthellaceae', ' f__Lactobacillaceae']\n",
      "49 attributes confirmed unimportant: [' f__Peptostreptococcaceae', ' f__Prevotellaceae', ' f__Deferribacteraceae', ' f__Oscillospiraceae', ' f__Sutterellaceae', ' f__Erysipelatoclostridiaceae', ' f__Enterobacteriaceae', ' f__Lachnospiraceae', ' f__Moraxellaceae', ' f__Anaerovoracaceae', ' f__Desulfovibrionaceae', ' f__Saccharimonadaceae', ' f__Bifidobacteriaceae', ' f__Bacillaceae', ' f__Muribaculaceae', ' f__Moorellaceae', ' f__Peptococcaceae', ' f__Streptococcaceae', ' f__Hungateiclostridiaceae', ' f__Morganellaceae', ' f__Oscillospirales', ' f__Weeksellaceae', ' f__uncultured', ' f__Monoglobaceae', ' f__Erysipelotrichaceae', ' f__Rikenellaceae', ' f__Enterococcaceae', ' f__Sphingomonadaceae', ' f__UCG-010', ' f__Clostridia_UCG-014', ' f__Christensenellaceae', ' f__Tannerellaceae', ' f__Anaerofustaceae', ' f__Marinifilaceae', ' f__RF39', ' f__Ruminococcaceae', ' f__Xanthomonadaceae', ' f__Akkermansiaceae', ' f__Butyricicoccaceae', ' f__AKAU3644', ' f__Clostridiaceae', ' f__Clostridia_vadinBB60_group', ' f__[Eubacterium]_coprostanoligenes_group', ' f__Spirosomaceae', ' f__Bacteroidaceae', ' f__Beggiatoaceae', ' f__Gastranaerophilales', ' f__Atopobiaceae', ' f__Alicyclobacillaceae']\n",
      "1 tentative attributes remains: [' f__Acholeplasmataceae']\n",
      "Fold 3:\n",
      "Training dataset index: [ 0  1  2  3  4  5  6  7  8  9 10 11 12 13 14 15 16 17 18 19 20 21 22 23\n",
      " 24 25 26 27 28 29 40 41 42 43 44 45 46 47 48 49]\n",
      "Testing dataset index: [30 31 32 33 34 35 36 37 38 39]\n"
     ]
    },
    {
     "data": {
      "application/vnd.jupyter.widget-view+json": {
       "model_id": "6241d2c5b04a420db8fb7d034b7ccfc0",
       "version_major": 2,
       "version_minor": 0
      },
      "text/plain": [
       "  0%|          | 0/100 [00:00<?, ?it/s]"
      ]
     },
     "metadata": {},
     "output_type": "display_data"
    },
    {
     "name": "stdout",
     "output_type": "stream",
     "text": [
      "8 attributes confirmed important: [' f__Akkermansiaceae', ' f__Peptostreptococcaceae', ' f__Erysipelotrichaceae', ' f__Enterococcaceae', ' f__Clostridia_UCG-014', ' f__[Eubacterium]_coprostanoligenes_group', ' f__Tannerellaceae', ' f__RF39']\n",
      "43 attributes confirmed unimportant: [' f__Prevotellaceae', ' f__Deferribacteraceae', ' f__Acholeplasmataceae', ' f__Oscillospiraceae', ' f__Sutterellaceae', ' f__Enterobacteriaceae', ' f__Erysipelatoclostridiaceae', ' f__Lachnospiraceae', ' f__Moraxellaceae', ' f__Anaerovoracaceae', ' f__Desulfovibrionaceae', ' f__Saccharimonadaceae', ' f__Bifidobacteriaceae', ' f__Bacillaceae', ' f__Muribaculaceae', ' f__Moorellaceae', ' f__Peptococcaceae', ' f__Streptococcaceae', ' f__Hungateiclostridiaceae', ' f__Morganellaceae', ' f__Oscillospirales', ' f__Weeksellaceae', ' f__uncultured', ' f__Monoglobaceae', ' f__Lactobacillaceae', ' f__Rikenellaceae', ' f__Sphingomonadaceae', ' f__Christensenellaceae', ' f__Anaerofustaceae', ' f__Marinifilaceae', ' f__Ruminococcaceae', ' f__Xanthomonadaceae', ' f__Butyricicoccaceae', ' f__Eggerthellaceae', ' f__AKAU3644', ' f__Clostridiaceae', ' f__Clostridia_vadinBB60_group', ' f__Spirosomaceae', ' f__Bacteroidaceae', ' f__Beggiatoaceae', ' f__Gastranaerophilales', ' f__Atopobiaceae', ' f__Alicyclobacillaceae']\n",
      "1 tentative attributes remains: [' f__UCG-010']\n"
     ]
    },
    {
     "data": {
      "application/vnd.jupyter.widget-view+json": {
       "model_id": "cb5b324b308e4d35bcb3517a19a2654c",
       "version_major": 2,
       "version_minor": 0
      },
      "text/plain": [
       "  0%|          | 0/100 [00:00<?, ?it/s]"
      ]
     },
     "metadata": {},
     "output_type": "display_data"
    },
    {
     "name": "stdout",
     "output_type": "stream",
     "text": [
      "2 attributes confirmed important: [' f__Enterobacteriaceae', ' f__Ruminococcaceae']\n",
      "50 attributes confirmed unimportant: [' f__Peptostreptococcaceae', ' f__Prevotellaceae', ' f__Deferribacteraceae', ' f__Acholeplasmataceae', ' f__Oscillospiraceae', ' f__Sutterellaceae', ' f__Erysipelatoclostridiaceae', ' f__Lachnospiraceae', ' f__Moraxellaceae', ' f__Anaerovoracaceae', ' f__Desulfovibrionaceae', ' f__Saccharimonadaceae', ' f__Bifidobacteriaceae', ' f__Bacillaceae', ' f__Muribaculaceae', ' f__Moorellaceae', ' f__Peptococcaceae', ' f__Streptococcaceae', ' f__Hungateiclostridiaceae', ' f__Morganellaceae', ' f__Oscillospirales', ' f__Weeksellaceae', ' f__uncultured', ' f__Monoglobaceae', ' f__Lactobacillaceae', ' f__Erysipelotrichaceae', ' f__Rikenellaceae', ' f__Enterococcaceae', ' f__Sphingomonadaceae', ' f__UCG-010', ' f__Clostridia_UCG-014', ' f__Christensenellaceae', ' f__Tannerellaceae', ' f__Anaerofustaceae', ' f__Marinifilaceae', ' f__RF39', ' f__Xanthomonadaceae', ' f__Akkermansiaceae', ' f__Butyricicoccaceae', ' f__Eggerthellaceae', ' f__AKAU3644', ' f__Clostridiaceae', ' f__Clostridia_vadinBB60_group', ' f__[Eubacterium]_coprostanoligenes_group', ' f__Spirosomaceae', ' f__Bacteroidaceae', ' f__Beggiatoaceae', ' f__Gastranaerophilales', ' f__Atopobiaceae', ' f__Alicyclobacillaceae']\n",
      "0 tentative attributes remains: []\n",
      "Fold 4:\n",
      "Training dataset index: [ 0  1  2  3  4  5  6  7  8  9 10 11 12 13 14 15 16 17 18 19 20 21 22 23\n",
      " 24 25 26 27 28 29 30 31 32 33 34 35 36 37 38 39]\n",
      "Testing dataset index: [40 41 42 43 44 45 46 47 48 49]\n"
     ]
    },
    {
     "data": {
      "application/vnd.jupyter.widget-view+json": {
       "model_id": "fdbe0a6bd3444cec8866382d6b4e120e",
       "version_major": 2,
       "version_minor": 0
      },
      "text/plain": [
       "  0%|          | 0/100 [00:00<?, ?it/s]"
      ]
     },
     "metadata": {},
     "output_type": "display_data"
    },
    {
     "name": "stdout",
     "output_type": "stream",
     "text": [
      "4 attributes confirmed important: [' f__Akkermansiaceae', ' f__Enterobacteriaceae', ' f__Peptostreptococcaceae', ' f__Erysipelotrichaceae']\n",
      "47 attributes confirmed unimportant: [' f__Prevotellaceae', ' f__Deferribacteraceae', ' f__Acholeplasmataceae', ' f__Oscillospiraceae', ' f__Sutterellaceae', ' f__Erysipelatoclostridiaceae', ' f__Lachnospiraceae', ' f__Moraxellaceae', ' f__Anaerovoracaceae', ' f__Desulfovibrionaceae', ' f__Saccharimonadaceae', ' f__Bifidobacteriaceae', ' f__Bacillaceae', ' f__Muribaculaceae', ' f__Moorellaceae', ' f__Peptococcaceae', ' f__Streptococcaceae', ' f__Hungateiclostridiaceae', ' f__Morganellaceae', ' f__Oscillospirales', ' f__Weeksellaceae', ' f__uncultured', ' f__Monoglobaceae', ' f__Lactobacillaceae', ' f__Rikenellaceae', ' f__Sphingomonadaceae', ' f__UCG-010', ' f__Clostridia_UCG-014', ' f__Christensenellaceae', ' f__Tannerellaceae', ' f__Anaerofustaceae', ' f__Marinifilaceae', ' f__RF39', ' f__Ruminococcaceae', ' f__Xanthomonadaceae', ' f__Butyricicoccaceae', ' f__Eggerthellaceae', ' f__AKAU3644', ' f__Clostridiaceae', ' f__Clostridia_vadinBB60_group', ' f__[Eubacterium]_coprostanoligenes_group', ' f__Spirosomaceae', ' f__Bacteroidaceae', ' f__Beggiatoaceae', ' f__Gastranaerophilales', ' f__Atopobiaceae', ' f__Alicyclobacillaceae']\n",
      "1 tentative attributes remains: [' f__Enterococcaceae']\n"
     ]
    },
    {
     "data": {
      "application/vnd.jupyter.widget-view+json": {
       "model_id": "c5c01b437334439290621861451815cc",
       "version_major": 2,
       "version_minor": 0
      },
      "text/plain": [
       "  0%|          | 0/100 [00:00<?, ?it/s]"
      ]
     },
     "metadata": {},
     "output_type": "display_data"
    },
    {
     "name": "stdout",
     "output_type": "stream",
     "text": [
      "4 attributes confirmed important: [' f__Peptostreptococcaceae', ' f__UCG-010', ' f__Sutterellaceae', ' f__Rikenellaceae']\n",
      "48 attributes confirmed unimportant: [' f__Prevotellaceae', ' f__Deferribacteraceae', ' f__Acholeplasmataceae', ' f__Oscillospiraceae', ' f__Enterobacteriaceae', ' f__Erysipelatoclostridiaceae', ' f__Lachnospiraceae', ' f__Moraxellaceae', ' f__Anaerovoracaceae', ' f__Desulfovibrionaceae', ' f__Saccharimonadaceae', ' f__Bifidobacteriaceae', ' f__Bacillaceae', ' f__Muribaculaceae', ' f__Moorellaceae', ' f__Peptococcaceae', ' f__Streptococcaceae', ' f__Hungateiclostridiaceae', ' f__Morganellaceae', ' f__Oscillospirales', ' f__Weeksellaceae', ' f__uncultured', ' f__Monoglobaceae', ' f__Lactobacillaceae', ' f__Erysipelotrichaceae', ' f__Enterococcaceae', ' f__Sphingomonadaceae', ' f__Clostridia_UCG-014', ' f__Christensenellaceae', ' f__Tannerellaceae', ' f__Anaerofustaceae', ' f__Marinifilaceae', ' f__RF39', ' f__Ruminococcaceae', ' f__Xanthomonadaceae', ' f__Akkermansiaceae', ' f__Butyricicoccaceae', ' f__Eggerthellaceae', ' f__AKAU3644', ' f__Clostridiaceae', ' f__Clostridia_vadinBB60_group', ' f__[Eubacterium]_coprostanoligenes_group', ' f__Spirosomaceae', ' f__Bacteroidaceae', ' f__Beggiatoaceae', ' f__Gastranaerophilales', ' f__Atopobiaceae', ' f__Alicyclobacillaceae']\n",
      "0 tentative attributes remains: []\n",
      "Fold 0:\n",
      "Training dataset index: [10 11 12 13 14 15 16 17 18 19 20 21 22 23 24 25 26 27 28 29 30 31 32 33\n",
      " 34 35 36 37 38 39 40 41 42 43 44 45 46 47 48 49]\n",
      "Testing dataset index: [0 1 2 3 4 5 6 7 8 9]\n"
     ]
    },
    {
     "data": {
      "application/vnd.jupyter.widget-view+json": {
       "model_id": "8c5cd3039979409db5ff4c18ab36c282",
       "version_major": 2,
       "version_minor": 0
      },
      "text/plain": [
       "  0%|          | 0/100 [00:00<?, ?it/s]"
      ]
     },
     "metadata": {},
     "output_type": "display_data"
    },
    {
     "name": "stdout",
     "output_type": "stream",
     "text": [
      "5 attributes confirmed important: [' f__Akkermansiaceae', ' f__Peptostreptococcaceae', ' f__Erysipelotrichaceae', ' f__Enterobacteriaceae', ' f__Bacteroidaceae']\n",
      "47 attributes confirmed unimportant: [' f__Prevotellaceae', ' f__Deferribacteraceae', ' f__Acholeplasmataceae', ' f__Oscillospiraceae', ' f__Sutterellaceae', ' f__Erysipelatoclostridiaceae', ' f__Lachnospiraceae', ' f__Moraxellaceae', ' f__Anaerovoracaceae', ' f__Desulfovibrionaceae', ' f__Saccharimonadaceae', ' f__Bifidobacteriaceae', ' f__Bacillaceae', ' f__Muribaculaceae', ' f__Moorellaceae', ' f__Peptococcaceae', ' f__Streptococcaceae', ' f__Hungateiclostridiaceae', ' f__Morganellaceae', ' f__Oscillospirales', ' f__Weeksellaceae', ' f__uncultured', ' f__Monoglobaceae', ' f__Lactobacillaceae', ' f__Rikenellaceae', ' f__Enterococcaceae', ' f__Sphingomonadaceae', ' f__UCG-010', ' f__Clostridia_UCG-014', ' f__Christensenellaceae', ' f__Tannerellaceae', ' f__Anaerofustaceae', ' f__Marinifilaceae', ' f__RF39', ' f__Ruminococcaceae', ' f__Xanthomonadaceae', ' f__Butyricicoccaceae', ' f__Eggerthellaceae', ' f__AKAU3644', ' f__Clostridiaceae', ' f__Clostridia_vadinBB60_group', ' f__[Eubacterium]_coprostanoligenes_group', ' f__Spirosomaceae', ' f__Beggiatoaceae', ' f__Gastranaerophilales', ' f__Atopobiaceae', ' f__Alicyclobacillaceae']\n",
      "0 tentative attributes remains: []\n"
     ]
    },
    {
     "data": {
      "application/vnd.jupyter.widget-view+json": {
       "model_id": "74acb3e792ed4230a8d82c5ce1e9da66",
       "version_major": 2,
       "version_minor": 0
      },
      "text/plain": [
       "  0%|          | 0/100 [00:00<?, ?it/s]"
      ]
     },
     "metadata": {},
     "output_type": "display_data"
    },
    {
     "name": "stdout",
     "output_type": "stream",
     "text": [
      "0 attributes confirmed important: []\n",
      "52 attributes confirmed unimportant: [' f__Peptostreptococcaceae', ' f__Prevotellaceae', ' f__Deferribacteraceae', ' f__Acholeplasmataceae', ' f__Oscillospiraceae', ' f__Sutterellaceae', ' f__Enterobacteriaceae', ' f__Erysipelatoclostridiaceae', ' f__Lachnospiraceae', ' f__Moraxellaceae', ' f__Anaerovoracaceae', ' f__Desulfovibrionaceae', ' f__Saccharimonadaceae', ' f__Bifidobacteriaceae', ' f__Bacillaceae', ' f__Muribaculaceae', ' f__Moorellaceae', ' f__Peptococcaceae', ' f__Streptococcaceae', ' f__Hungateiclostridiaceae', ' f__Morganellaceae', ' f__Oscillospirales', ' f__Weeksellaceae', ' f__uncultured', ' f__Monoglobaceae', ' f__Lactobacillaceae', ' f__Erysipelotrichaceae', ' f__Rikenellaceae', ' f__Sphingomonadaceae', ' f__Enterococcaceae', ' f__UCG-010', ' f__Clostridia_UCG-014', ' f__Christensenellaceae', ' f__Tannerellaceae', ' f__Anaerofustaceae', ' f__Marinifilaceae', ' f__RF39', ' f__Ruminococcaceae', ' f__Xanthomonadaceae', ' f__Akkermansiaceae', ' f__Butyricicoccaceae', ' f__Eggerthellaceae', ' f__AKAU3644', ' f__Clostridiaceae', ' f__Clostridia_vadinBB60_group', ' f__[Eubacterium]_coprostanoligenes_group', ' f__Spirosomaceae', ' f__Bacteroidaceae', ' f__Beggiatoaceae', ' f__Gastranaerophilales', ' f__Atopobiaceae', ' f__Alicyclobacillaceae']\n",
      "0 tentative attributes remains: []\n",
      "Fold 1:\n",
      "Training dataset index: [ 0  1  2  3  4  5  6  7  8  9 20 21 22 23 24 25 26 27 28 29 30 31 32 33\n",
      " 34 35 36 37 38 39 40 41 42 43 44 45 46 47 48 49]\n",
      "Testing dataset index: [10 11 12 13 14 15 16 17 18 19]\n"
     ]
    },
    {
     "data": {
      "application/vnd.jupyter.widget-view+json": {
       "model_id": "801882e018b947cb831901d6dbe6511e",
       "version_major": 2,
       "version_minor": 0
      },
      "text/plain": [
       "  0%|          | 0/100 [00:00<?, ?it/s]"
      ]
     },
     "metadata": {},
     "output_type": "display_data"
    },
    {
     "name": "stdout",
     "output_type": "stream",
     "text": [
      "6 attributes confirmed important: [' f__Peptostreptococcaceae', ' f__Erysipelotrichaceae', ' f__UCG-010', ' f__[Eubacterium]_coprostanoligenes_group', ' f__Enterobacteriaceae', ' f__Bacteroidaceae']\n",
      "42 attributes confirmed unimportant: [' f__Prevotellaceae', ' f__Deferribacteraceae', ' f__Acholeplasmataceae', ' f__Sutterellaceae', ' f__Erysipelatoclostridiaceae', ' f__Lachnospiraceae', ' f__Moraxellaceae', ' f__Desulfovibrionaceae', ' f__Bifidobacteriaceae', ' f__Bacillaceae', ' f__Muribaculaceae', ' f__Moorellaceae', ' f__Peptococcaceae', ' f__Streptococcaceae', ' f__Hungateiclostridiaceae', ' f__Morganellaceae', ' f__Oscillospirales', ' f__Weeksellaceae', ' f__uncultured', ' f__Monoglobaceae', ' f__Lactobacillaceae', ' f__Enterococcaceae', ' f__Sphingomonadaceae', ' f__Clostridia_UCG-014', ' f__Christensenellaceae', ' f__Tannerellaceae', ' f__Anaerofustaceae', ' f__Marinifilaceae', ' f__RF39', ' f__Ruminococcaceae', ' f__Xanthomonadaceae', ' f__Akkermansiaceae', ' f__Butyricicoccaceae', ' f__Eggerthellaceae', ' f__AKAU3644', ' f__Clostridiaceae', ' f__Clostridia_vadinBB60_group', ' f__Spirosomaceae', ' f__Beggiatoaceae', ' f__Gastranaerophilales', ' f__Atopobiaceae', ' f__Alicyclobacillaceae']\n",
      "4 tentative attributes remains: [' f__Anaerovoracaceae', ' f__Oscillospiraceae', ' f__Saccharimonadaceae', ' f__Rikenellaceae']\n"
     ]
    },
    {
     "data": {
      "application/vnd.jupyter.widget-view+json": {
       "model_id": "f2c0d35dcb954f63830bd686a3ce4053",
       "version_major": 2,
       "version_minor": 0
      },
      "text/plain": [
       "  0%|          | 0/100 [00:00<?, ?it/s]"
      ]
     },
     "metadata": {},
     "output_type": "display_data"
    },
    {
     "name": "stdout",
     "output_type": "stream",
     "text": [
      "4 attributes confirmed important: [' f__Enterococcaceae', ' f__Peptostreptococcaceae', ' f__Erysipelotrichaceae', ' f__Tannerellaceae']\n",
      "48 attributes confirmed unimportant: [' f__Prevotellaceae', ' f__Deferribacteraceae', ' f__Acholeplasmataceae', ' f__Oscillospiraceae', ' f__Sutterellaceae', ' f__Enterobacteriaceae', ' f__Erysipelatoclostridiaceae', ' f__Lachnospiraceae', ' f__Moraxellaceae', ' f__Anaerovoracaceae', ' f__Desulfovibrionaceae', ' f__Saccharimonadaceae', ' f__Bifidobacteriaceae', ' f__Bacillaceae', ' f__Muribaculaceae', ' f__Moorellaceae', ' f__Peptococcaceae', ' f__Streptococcaceae', ' f__Hungateiclostridiaceae', ' f__Morganellaceae', ' f__Oscillospirales', ' f__Weeksellaceae', ' f__uncultured', ' f__Monoglobaceae', ' f__Lactobacillaceae', ' f__Rikenellaceae', ' f__Sphingomonadaceae', ' f__UCG-010', ' f__Clostridia_UCG-014', ' f__Christensenellaceae', ' f__Anaerofustaceae', ' f__Marinifilaceae', ' f__RF39', ' f__Ruminococcaceae', ' f__Xanthomonadaceae', ' f__Akkermansiaceae', ' f__Butyricicoccaceae', ' f__Eggerthellaceae', ' f__AKAU3644', ' f__Clostridiaceae', ' f__Clostridia_vadinBB60_group', ' f__[Eubacterium]_coprostanoligenes_group', ' f__Spirosomaceae', ' f__Bacteroidaceae', ' f__Beggiatoaceae', ' f__Gastranaerophilales', ' f__Atopobiaceae', ' f__Alicyclobacillaceae']\n",
      "0 tentative attributes remains: []\n",
      "Fold 2:\n",
      "Training dataset index: [ 0  1  2  3  4  5  6  7  8  9 10 11 12 13 14 15 16 17 18 19 30 31 32 33\n",
      " 34 35 36 37 38 39 40 41 42 43 44 45 46 47 48 49]\n",
      "Testing dataset index: [20 21 22 23 24 25 26 27 28 29]\n"
     ]
    },
    {
     "data": {
      "application/vnd.jupyter.widget-view+json": {
       "model_id": "4753522f1e5b46978578976db03511cd",
       "version_major": 2,
       "version_minor": 0
      },
      "text/plain": [
       "  0%|          | 0/100 [00:00<?, ?it/s]"
      ]
     },
     "metadata": {},
     "output_type": "display_data"
    },
    {
     "name": "stdout",
     "output_type": "stream",
     "text": [
      "2 attributes confirmed important: [' f__UCG-010', ' f__RF39']\n",
      "50 attributes confirmed unimportant: [' f__Peptostreptococcaceae', ' f__Prevotellaceae', ' f__Deferribacteraceae', ' f__Acholeplasmataceae', ' f__Oscillospiraceae', ' f__Sutterellaceae', ' f__Enterobacteriaceae', ' f__Erysipelatoclostridiaceae', ' f__Lachnospiraceae', ' f__Moraxellaceae', ' f__Anaerovoracaceae', ' f__Desulfovibrionaceae', ' f__Saccharimonadaceae', ' f__Bifidobacteriaceae', ' f__Bacillaceae', ' f__Muribaculaceae', ' f__Moorellaceae', ' f__Peptococcaceae', ' f__Streptococcaceae', ' f__Hungateiclostridiaceae', ' f__Morganellaceae', ' f__Oscillospirales', ' f__Weeksellaceae', ' f__uncultured', ' f__Monoglobaceae', ' f__Lactobacillaceae', ' f__Erysipelotrichaceae', ' f__Rikenellaceae', ' f__Enterococcaceae', ' f__Sphingomonadaceae', ' f__Clostridia_UCG-014', ' f__Christensenellaceae', ' f__Tannerellaceae', ' f__Anaerofustaceae', ' f__Marinifilaceae', ' f__Ruminococcaceae', ' f__Xanthomonadaceae', ' f__Akkermansiaceae', ' f__Butyricicoccaceae', ' f__Eggerthellaceae', ' f__AKAU3644', ' f__Clostridiaceae', ' f__Clostridia_vadinBB60_group', ' f__[Eubacterium]_coprostanoligenes_group', ' f__Spirosomaceae', ' f__Bacteroidaceae', ' f__Beggiatoaceae', ' f__Gastranaerophilales', ' f__Atopobiaceae', ' f__Alicyclobacillaceae']\n",
      "0 tentative attributes remains: []\n"
     ]
    },
    {
     "data": {
      "application/vnd.jupyter.widget-view+json": {
       "model_id": "8f2674d7ff324a03907e60b69d221fc1",
       "version_major": 2,
       "version_minor": 0
      },
      "text/plain": [
       "  0%|          | 0/100 [00:00<?, ?it/s]"
      ]
     },
     "metadata": {},
     "output_type": "display_data"
    },
    {
     "name": "stdout",
     "output_type": "stream",
     "text": [
      "2 attributes confirmed important: [' f__Eggerthellaceae', ' f__Lactobacillaceae']\n",
      "50 attributes confirmed unimportant: [' f__Peptostreptococcaceae', ' f__Prevotellaceae', ' f__Deferribacteraceae', ' f__Acholeplasmataceae', ' f__Oscillospiraceae', ' f__Sutterellaceae', ' f__Enterobacteriaceae', ' f__Erysipelatoclostridiaceae', ' f__Lachnospiraceae', ' f__Moraxellaceae', ' f__Anaerovoracaceae', ' f__Desulfovibrionaceae', ' f__Saccharimonadaceae', ' f__Bifidobacteriaceae', ' f__Bacillaceae', ' f__Muribaculaceae', ' f__Moorellaceae', ' f__Peptococcaceae', ' f__Streptococcaceae', ' f__Hungateiclostridiaceae', ' f__Morganellaceae', ' f__Oscillospirales', ' f__Weeksellaceae', ' f__uncultured', ' f__Monoglobaceae', ' f__Erysipelotrichaceae', ' f__Rikenellaceae', ' f__Enterococcaceae', ' f__Sphingomonadaceae', ' f__UCG-010', ' f__Clostridia_UCG-014', ' f__Christensenellaceae', ' f__Tannerellaceae', ' f__Anaerofustaceae', ' f__Marinifilaceae', ' f__RF39', ' f__Ruminococcaceae', ' f__Xanthomonadaceae', ' f__Akkermansiaceae', ' f__Butyricicoccaceae', ' f__AKAU3644', ' f__Clostridiaceae', ' f__Clostridia_vadinBB60_group', ' f__[Eubacterium]_coprostanoligenes_group', ' f__Spirosomaceae', ' f__Bacteroidaceae', ' f__Beggiatoaceae', ' f__Gastranaerophilales', ' f__Atopobiaceae', ' f__Alicyclobacillaceae']\n",
      "0 tentative attributes remains: []\n",
      "Fold 3:\n",
      "Training dataset index: [ 0  1  2  3  4  5  6  7  8  9 10 11 12 13 14 15 16 17 18 19 20 21 22 23\n",
      " 24 25 26 27 28 29 40 41 42 43 44 45 46 47 48 49]\n",
      "Testing dataset index: [30 31 32 33 34 35 36 37 38 39]\n"
     ]
    },
    {
     "data": {
      "application/vnd.jupyter.widget-view+json": {
       "model_id": "3279abbd077f408baf245336345657d1",
       "version_major": 2,
       "version_minor": 0
      },
      "text/plain": [
       "  0%|          | 0/100 [00:00<?, ?it/s]"
      ]
     },
     "metadata": {},
     "output_type": "display_data"
    },
    {
     "name": "stdout",
     "output_type": "stream",
     "text": [
      "3 attributes confirmed important: [' f__Akkermansiaceae', ' f__Peptostreptococcaceae', ' f__Erysipelotrichaceae']\n",
      "49 attributes confirmed unimportant: [' f__Prevotellaceae', ' f__Deferribacteraceae', ' f__Acholeplasmataceae', ' f__Oscillospiraceae', ' f__Sutterellaceae', ' f__Enterobacteriaceae', ' f__Erysipelatoclostridiaceae', ' f__Lachnospiraceae', ' f__Moraxellaceae', ' f__Anaerovoracaceae', ' f__Desulfovibrionaceae', ' f__Saccharimonadaceae', ' f__Bifidobacteriaceae', ' f__Bacillaceae', ' f__Muribaculaceae', ' f__Moorellaceae', ' f__Peptococcaceae', ' f__Streptococcaceae', ' f__Hungateiclostridiaceae', ' f__Morganellaceae', ' f__Oscillospirales', ' f__Weeksellaceae', ' f__uncultured', ' f__Monoglobaceae', ' f__Lactobacillaceae', ' f__Rikenellaceae', ' f__Enterococcaceae', ' f__Sphingomonadaceae', ' f__UCG-010', ' f__Clostridia_UCG-014', ' f__Christensenellaceae', ' f__Tannerellaceae', ' f__Anaerofustaceae', ' f__Marinifilaceae', ' f__RF39', ' f__Ruminococcaceae', ' f__Xanthomonadaceae', ' f__Butyricicoccaceae', ' f__Eggerthellaceae', ' f__AKAU3644', ' f__Clostridiaceae', ' f__Clostridia_vadinBB60_group', ' f__[Eubacterium]_coprostanoligenes_group', ' f__Spirosomaceae', ' f__Bacteroidaceae', ' f__Beggiatoaceae', ' f__Gastranaerophilales', ' f__Atopobiaceae', ' f__Alicyclobacillaceae']\n",
      "0 tentative attributes remains: []\n"
     ]
    },
    {
     "data": {
      "application/vnd.jupyter.widget-view+json": {
       "model_id": "7de5b13e520349e8b6fc69a217f95f86",
       "version_major": 2,
       "version_minor": 0
      },
      "text/plain": [
       "  0%|          | 0/100 [00:00<?, ?it/s]"
      ]
     },
     "metadata": {},
     "output_type": "display_data"
    },
    {
     "name": "stdout",
     "output_type": "stream",
     "text": [
      "2 attributes confirmed important: [' f__Akkermansiaceae', ' f__Enterobacteriaceae']\n",
      "50 attributes confirmed unimportant: [' f__Peptostreptococcaceae', ' f__Prevotellaceae', ' f__Deferribacteraceae', ' f__Acholeplasmataceae', ' f__Oscillospiraceae', ' f__Sutterellaceae', ' f__Erysipelatoclostridiaceae', ' f__Lachnospiraceae', ' f__Moraxellaceae', ' f__Anaerovoracaceae', ' f__Desulfovibrionaceae', ' f__Saccharimonadaceae', ' f__Bifidobacteriaceae', ' f__Bacillaceae', ' f__Muribaculaceae', ' f__Moorellaceae', ' f__Peptococcaceae', ' f__Streptococcaceae', ' f__Hungateiclostridiaceae', ' f__Morganellaceae', ' f__Oscillospirales', ' f__Weeksellaceae', ' f__uncultured', ' f__Monoglobaceae', ' f__Lactobacillaceae', ' f__Erysipelotrichaceae', ' f__Rikenellaceae', ' f__Enterococcaceae', ' f__Sphingomonadaceae', ' f__UCG-010', ' f__Clostridia_UCG-014', ' f__Christensenellaceae', ' f__Tannerellaceae', ' f__Anaerofustaceae', ' f__Marinifilaceae', ' f__RF39', ' f__Ruminococcaceae', ' f__Xanthomonadaceae', ' f__Butyricicoccaceae', ' f__Eggerthellaceae', ' f__AKAU3644', ' f__Clostridiaceae', ' f__Clostridia_vadinBB60_group', ' f__[Eubacterium]_coprostanoligenes_group', ' f__Spirosomaceae', ' f__Bacteroidaceae', ' f__Beggiatoaceae', ' f__Gastranaerophilales', ' f__Atopobiaceae', ' f__Alicyclobacillaceae']\n",
      "0 tentative attributes remains: []\n",
      "Fold 4:\n",
      "Training dataset index: [ 0  1  2  3  4  5  6  7  8  9 10 11 12 13 14 15 16 17 18 19 20 21 22 23\n",
      " 24 25 26 27 28 29 30 31 32 33 34 35 36 37 38 39]\n",
      "Testing dataset index: [40 41 42 43 44 45 46 47 48 49]\n"
     ]
    },
    {
     "data": {
      "application/vnd.jupyter.widget-view+json": {
       "model_id": "59c67fa9f05d45f983b40449c9017d7d",
       "version_major": 2,
       "version_minor": 0
      },
      "text/plain": [
       "  0%|          | 0/100 [00:00<?, ?it/s]"
      ]
     },
     "metadata": {},
     "output_type": "display_data"
    },
    {
     "name": "stdout",
     "output_type": "stream",
     "text": [
      "1 attributes confirmed important: [' f__Akkermansiaceae']\n",
      "51 attributes confirmed unimportant: [' f__Peptostreptococcaceae', ' f__Prevotellaceae', ' f__Deferribacteraceae', ' f__Acholeplasmataceae', ' f__Oscillospiraceae', ' f__Sutterellaceae', ' f__Enterobacteriaceae', ' f__Erysipelatoclostridiaceae', ' f__Lachnospiraceae', ' f__Moraxellaceae', ' f__Anaerovoracaceae', ' f__Desulfovibrionaceae', ' f__Saccharimonadaceae', ' f__Bifidobacteriaceae', ' f__Bacillaceae', ' f__Muribaculaceae', ' f__Moorellaceae', ' f__Peptococcaceae', ' f__Streptococcaceae', ' f__Hungateiclostridiaceae', ' f__Morganellaceae', ' f__Oscillospirales', ' f__Weeksellaceae', ' f__uncultured', ' f__Monoglobaceae', ' f__Lactobacillaceae', ' f__Erysipelotrichaceae', ' f__Rikenellaceae', ' f__Enterococcaceae', ' f__Sphingomonadaceae', ' f__UCG-010', ' f__Clostridia_UCG-014', ' f__Christensenellaceae', ' f__Tannerellaceae', ' f__Anaerofustaceae', ' f__Marinifilaceae', ' f__RF39', ' f__Ruminococcaceae', ' f__Xanthomonadaceae', ' f__Butyricicoccaceae', ' f__Eggerthellaceae', ' f__AKAU3644', ' f__Clostridiaceae', ' f__Clostridia_vadinBB60_group', ' f__[Eubacterium]_coprostanoligenes_group', ' f__Spirosomaceae', ' f__Bacteroidaceae', ' f__Beggiatoaceae', ' f__Gastranaerophilales', ' f__Atopobiaceae', ' f__Alicyclobacillaceae']\n",
      "0 tentative attributes remains: []\n"
     ]
    },
    {
     "data": {
      "application/vnd.jupyter.widget-view+json": {
       "model_id": "9f4b7d8b9a96446683c33ea6f2e43fb7",
       "version_major": 2,
       "version_minor": 0
      },
      "text/plain": [
       "  0%|          | 0/100 [00:00<?, ?it/s]"
      ]
     },
     "metadata": {},
     "output_type": "display_data"
    },
    {
     "name": "stdout",
     "output_type": "stream",
     "text": [
      "4 attributes confirmed important: [' f__UCG-010', ' f__Peptostreptococcaceae', ' f__Sutterellaceae', ' f__Rikenellaceae']\n",
      "48 attributes confirmed unimportant: [' f__Prevotellaceae', ' f__Deferribacteraceae', ' f__Acholeplasmataceae', ' f__Oscillospiraceae', ' f__Enterobacteriaceae', ' f__Erysipelatoclostridiaceae', ' f__Lachnospiraceae', ' f__Moraxellaceae', ' f__Anaerovoracaceae', ' f__Desulfovibrionaceae', ' f__Saccharimonadaceae', ' f__Bifidobacteriaceae', ' f__Bacillaceae', ' f__Muribaculaceae', ' f__Moorellaceae', ' f__Peptococcaceae', ' f__Streptococcaceae', ' f__Hungateiclostridiaceae', ' f__Morganellaceae', ' f__Oscillospirales', ' f__Weeksellaceae', ' f__uncultured', ' f__Monoglobaceae', ' f__Lactobacillaceae', ' f__Erysipelotrichaceae', ' f__Enterococcaceae', ' f__Sphingomonadaceae', ' f__Clostridia_UCG-014', ' f__Christensenellaceae', ' f__Tannerellaceae', ' f__Anaerofustaceae', ' f__Marinifilaceae', ' f__RF39', ' f__Ruminococcaceae', ' f__Xanthomonadaceae', ' f__Akkermansiaceae', ' f__Butyricicoccaceae', ' f__Eggerthellaceae', ' f__AKAU3644', ' f__Clostridiaceae', ' f__Clostridia_vadinBB60_group', ' f__[Eubacterium]_coprostanoligenes_group', ' f__Spirosomaceae', ' f__Bacteroidaceae', ' f__Beggiatoaceae', ' f__Gastranaerophilales', ' f__Atopobiaceae', ' f__Alicyclobacillaceae']\n",
      "0 tentative attributes remains: []\n"
     ]
    }
   ],
   "source": [
    "bloom_bs_acc_train = {}\n",
    "bloom_bs_acc_test = {}\n",
    "for label, boruta_shap in borutaShap_dict.items():\n",
    "    bloom_results = kfold_boruta_shap(k_fold=kf,\n",
    "                                      feature_selector=boruta_shap,\n",
    "                                      x_dataframe=bloom_x_df,\n",
    "                                      y_dataframe=bloom_y_df,\n",
    "                                      trial_num=100,\n",
    "                                      run_name=\"bloom\")\n",
    "    \n",
    "    ## pulling out boruta shap accepted features \n",
    "    ## training data\n",
    "    bloom_train_list = bloom_results[\"bloom_train\"]\n",
    "    bs_bloom_train_df = create_occurence_table(input_list=bloom_train_list)\n",
    "    bs_bloom_train_df[\"bs_model\"] = label\n",
    "\n",
    "    ## testing data\n",
    "    bloom_test_list = bloom_results[\"bloom_test\"]\n",
    "    bs_bloom_test_df = create_occurence_table(input_list=bloom_test_list)\n",
    "    bs_bloom_test_df[\"bs_model\"] = label\n",
    "\n",
    "    bloom_bs_acc_train.update({f\"{label}_accepted\": bs_bloom_train_df})\n",
    "    bloom_bs_acc_test.update({f\"{label}_accepted\": bs_bloom_test_df})\n",
    "\n",
    "\n",
    "bloom_train_features = pd.concat(bloom_bs_acc_train, ignore_index=True)\n",
    "bloom_test_features = pd.concat(bloom_bs_acc_test, ignore_index=True)"
   ]
  },
  {
   "cell_type": "markdown",
   "metadata": {},
   "source": [
    "- f_RF39: unclassified enterococcaceae bacterium\n",
    "- f_UCG-010: i have no idea, after looking it up on the silva database website (the database I used to classify the taxonomy for this data in qiime), they're not sure where to place it (insertae sedis) but there's a bunch of uncultured clostridiales/clostridiaceae bacterium under it (I wouldn't be too dependent on that though bc there's 973 unclassified bacterium that are under UCG-010)"
   ]
  },
  {
   "cell_type": "code",
   "execution_count": 9,
   "metadata": {},
   "outputs": [
    {
     "data": {
      "text/html": [
       "<div>\n",
       "<style scoped>\n",
       "    .dataframe tbody tr th:only-of-type {\n",
       "        vertical-align: middle;\n",
       "    }\n",
       "\n",
       "    .dataframe tbody tr th {\n",
       "        vertical-align: top;\n",
       "    }\n",
       "\n",
       "    .dataframe thead th {\n",
       "        text-align: right;\n",
       "    }\n",
       "</style>\n",
       "<table border=\"1\" class=\"dataframe\">\n",
       "  <thead>\n",
       "    <tr style=\"text-align: right;\">\n",
       "      <th></th>\n",
       "      <th>feature</th>\n",
       "      <th>num_occurences</th>\n",
       "      <th>av_occurences</th>\n",
       "      <th>bs_model</th>\n",
       "    </tr>\n",
       "  </thead>\n",
       "  <tbody>\n",
       "    <tr>\n",
       "      <th>0</th>\n",
       "      <td>f__Akkermansiaceae</td>\n",
       "      <td>5</td>\n",
       "      <td>1.0</td>\n",
       "      <td>random_forest</td>\n",
       "    </tr>\n",
       "    <tr>\n",
       "      <th>1</th>\n",
       "      <td>f__Peptostreptococcaceae</td>\n",
       "      <td>5</td>\n",
       "      <td>1.0</td>\n",
       "      <td>random_forest</td>\n",
       "    </tr>\n",
       "    <tr>\n",
       "      <th>2</th>\n",
       "      <td>f__Erysipelotrichaceae</td>\n",
       "      <td>4</td>\n",
       "      <td>0.8</td>\n",
       "      <td>random_forest</td>\n",
       "    </tr>\n",
       "    <tr>\n",
       "      <th>3</th>\n",
       "      <td>f__Enterobacteriaceae</td>\n",
       "      <td>3</td>\n",
       "      <td>0.6</td>\n",
       "      <td>random_forest</td>\n",
       "    </tr>\n",
       "    <tr>\n",
       "      <th>4</th>\n",
       "      <td>f__[Eubacterium]_coprostanoligenes_group</td>\n",
       "      <td>3</td>\n",
       "      <td>0.6</td>\n",
       "      <td>random_forest</td>\n",
       "    </tr>\n",
       "    <tr>\n",
       "      <th>5</th>\n",
       "      <td>f__Clostridia_UCG-014</td>\n",
       "      <td>2</td>\n",
       "      <td>0.4</td>\n",
       "      <td>random_forest</td>\n",
       "    </tr>\n",
       "    <tr>\n",
       "      <th>6</th>\n",
       "      <td>f__RF39</td>\n",
       "      <td>2</td>\n",
       "      <td>0.4</td>\n",
       "      <td>random_forest</td>\n",
       "    </tr>\n",
       "    <tr>\n",
       "      <th>7</th>\n",
       "      <td>f__UCG-010</td>\n",
       "      <td>2</td>\n",
       "      <td>0.4</td>\n",
       "      <td>random_forest</td>\n",
       "    </tr>\n",
       "    <tr>\n",
       "      <th>8</th>\n",
       "      <td>f__Enterococcaceae</td>\n",
       "      <td>1</td>\n",
       "      <td>0.2</td>\n",
       "      <td>random_forest</td>\n",
       "    </tr>\n",
       "    <tr>\n",
       "      <th>9</th>\n",
       "      <td>f__Tannerellaceae</td>\n",
       "      <td>1</td>\n",
       "      <td>0.2</td>\n",
       "      <td>random_forest</td>\n",
       "    </tr>\n",
       "    <tr>\n",
       "      <th>10</th>\n",
       "      <td>f__Akkermansiaceae</td>\n",
       "      <td>3</td>\n",
       "      <td>0.6</td>\n",
       "      <td>grad_boost</td>\n",
       "    </tr>\n",
       "    <tr>\n",
       "      <th>11</th>\n",
       "      <td>f__Erysipelotrichaceae</td>\n",
       "      <td>3</td>\n",
       "      <td>0.6</td>\n",
       "      <td>grad_boost</td>\n",
       "    </tr>\n",
       "    <tr>\n",
       "      <th>12</th>\n",
       "      <td>f__Peptostreptococcaceae</td>\n",
       "      <td>3</td>\n",
       "      <td>0.6</td>\n",
       "      <td>grad_boost</td>\n",
       "    </tr>\n",
       "    <tr>\n",
       "      <th>13</th>\n",
       "      <td>f__Bacteroidaceae</td>\n",
       "      <td>2</td>\n",
       "      <td>0.4</td>\n",
       "      <td>grad_boost</td>\n",
       "    </tr>\n",
       "    <tr>\n",
       "      <th>14</th>\n",
       "      <td>f__Enterobacteriaceae</td>\n",
       "      <td>2</td>\n",
       "      <td>0.4</td>\n",
       "      <td>grad_boost</td>\n",
       "    </tr>\n",
       "    <tr>\n",
       "      <th>15</th>\n",
       "      <td>f__UCG-010</td>\n",
       "      <td>2</td>\n",
       "      <td>0.4</td>\n",
       "      <td>grad_boost</td>\n",
       "    </tr>\n",
       "    <tr>\n",
       "      <th>16</th>\n",
       "      <td>f__RF39</td>\n",
       "      <td>1</td>\n",
       "      <td>0.2</td>\n",
       "      <td>grad_boost</td>\n",
       "    </tr>\n",
       "    <tr>\n",
       "      <th>17</th>\n",
       "      <td>f__[Eubacterium]_coprostanoligenes_group</td>\n",
       "      <td>1</td>\n",
       "      <td>0.2</td>\n",
       "      <td>grad_boost</td>\n",
       "    </tr>\n",
       "  </tbody>\n",
       "</table>\n",
       "</div>"
      ],
      "text/plain": [
       "                                      feature num_occurences av_occurences  \\\n",
       "0                          f__Akkermansiaceae              5           1.0   \n",
       "1                    f__Peptostreptococcaceae              5           1.0   \n",
       "2                      f__Erysipelotrichaceae              4           0.8   \n",
       "3                       f__Enterobacteriaceae              3           0.6   \n",
       "4    f__[Eubacterium]_coprostanoligenes_group              3           0.6   \n",
       "5                       f__Clostridia_UCG-014              2           0.4   \n",
       "6                                     f__RF39              2           0.4   \n",
       "7                                  f__UCG-010              2           0.4   \n",
       "8                          f__Enterococcaceae              1           0.2   \n",
       "9                           f__Tannerellaceae              1           0.2   \n",
       "10                         f__Akkermansiaceae              3           0.6   \n",
       "11                     f__Erysipelotrichaceae              3           0.6   \n",
       "12                   f__Peptostreptococcaceae              3           0.6   \n",
       "13                          f__Bacteroidaceae              2           0.4   \n",
       "14                      f__Enterobacteriaceae              2           0.4   \n",
       "15                                 f__UCG-010              2           0.4   \n",
       "16                                    f__RF39              1           0.2   \n",
       "17   f__[Eubacterium]_coprostanoligenes_group              1           0.2   \n",
       "\n",
       "         bs_model  \n",
       "0   random_forest  \n",
       "1   random_forest  \n",
       "2   random_forest  \n",
       "3   random_forest  \n",
       "4   random_forest  \n",
       "5   random_forest  \n",
       "6   random_forest  \n",
       "7   random_forest  \n",
       "8   random_forest  \n",
       "9   random_forest  \n",
       "10     grad_boost  \n",
       "11     grad_boost  \n",
       "12     grad_boost  \n",
       "13     grad_boost  \n",
       "14     grad_boost  \n",
       "15     grad_boost  \n",
       "16     grad_boost  \n",
       "17     grad_boost  "
      ]
     },
     "execution_count": 9,
     "metadata": {},
     "output_type": "execute_result"
    }
   ],
   "source": [
    "bloom_train_features"
   ]
  },
  {
   "cell_type": "code",
   "execution_count": 10,
   "metadata": {},
   "outputs": [
    {
     "data": {
      "text/html": [
       "<div>\n",
       "<style scoped>\n",
       "    .dataframe tbody tr th:only-of-type {\n",
       "        vertical-align: middle;\n",
       "    }\n",
       "\n",
       "    .dataframe tbody tr th {\n",
       "        vertical-align: top;\n",
       "    }\n",
       "\n",
       "    .dataframe thead th {\n",
       "        text-align: right;\n",
       "    }\n",
       "</style>\n",
       "<table border=\"1\" class=\"dataframe\">\n",
       "  <thead>\n",
       "    <tr style=\"text-align: right;\">\n",
       "      <th></th>\n",
       "      <th>feature</th>\n",
       "      <th>num_occurences</th>\n",
       "      <th>av_occurences</th>\n",
       "      <th>bs_model</th>\n",
       "    </tr>\n",
       "  </thead>\n",
       "  <tbody>\n",
       "    <tr>\n",
       "      <th>0</th>\n",
       "      <td>f__Enterococcaceae</td>\n",
       "      <td>2</td>\n",
       "      <td>0.4</td>\n",
       "      <td>random_forest</td>\n",
       "    </tr>\n",
       "    <tr>\n",
       "      <th>1</th>\n",
       "      <td>f__Peptostreptococcaceae</td>\n",
       "      <td>2</td>\n",
       "      <td>0.4</td>\n",
       "      <td>random_forest</td>\n",
       "    </tr>\n",
       "    <tr>\n",
       "      <th>2</th>\n",
       "      <td>f__Eggerthellaceae</td>\n",
       "      <td>1</td>\n",
       "      <td>0.2</td>\n",
       "      <td>random_forest</td>\n",
       "    </tr>\n",
       "    <tr>\n",
       "      <th>3</th>\n",
       "      <td>f__Enterobacteriaceae</td>\n",
       "      <td>1</td>\n",
       "      <td>0.2</td>\n",
       "      <td>random_forest</td>\n",
       "    </tr>\n",
       "    <tr>\n",
       "      <th>4</th>\n",
       "      <td>f__Erysipelotrichaceae</td>\n",
       "      <td>1</td>\n",
       "      <td>0.2</td>\n",
       "      <td>random_forest</td>\n",
       "    </tr>\n",
       "    <tr>\n",
       "      <th>5</th>\n",
       "      <td>f__Lactobacillaceae</td>\n",
       "      <td>1</td>\n",
       "      <td>0.2</td>\n",
       "      <td>random_forest</td>\n",
       "    </tr>\n",
       "    <tr>\n",
       "      <th>6</th>\n",
       "      <td>f__Rikenellaceae</td>\n",
       "      <td>1</td>\n",
       "      <td>0.2</td>\n",
       "      <td>random_forest</td>\n",
       "    </tr>\n",
       "    <tr>\n",
       "      <th>7</th>\n",
       "      <td>f__Ruminococcaceae</td>\n",
       "      <td>1</td>\n",
       "      <td>0.2</td>\n",
       "      <td>random_forest</td>\n",
       "    </tr>\n",
       "    <tr>\n",
       "      <th>8</th>\n",
       "      <td>f__Sutterellaceae</td>\n",
       "      <td>1</td>\n",
       "      <td>0.2</td>\n",
       "      <td>random_forest</td>\n",
       "    </tr>\n",
       "    <tr>\n",
       "      <th>9</th>\n",
       "      <td>f__Tannerellaceae</td>\n",
       "      <td>1</td>\n",
       "      <td>0.2</td>\n",
       "      <td>random_forest</td>\n",
       "    </tr>\n",
       "    <tr>\n",
       "      <th>10</th>\n",
       "      <td>f__UCG-010</td>\n",
       "      <td>1</td>\n",
       "      <td>0.2</td>\n",
       "      <td>random_forest</td>\n",
       "    </tr>\n",
       "    <tr>\n",
       "      <th>11</th>\n",
       "      <td>f__Peptostreptococcaceae</td>\n",
       "      <td>2</td>\n",
       "      <td>0.4</td>\n",
       "      <td>grad_boost</td>\n",
       "    </tr>\n",
       "    <tr>\n",
       "      <th>12</th>\n",
       "      <td>f__Akkermansiaceae</td>\n",
       "      <td>1</td>\n",
       "      <td>0.2</td>\n",
       "      <td>grad_boost</td>\n",
       "    </tr>\n",
       "    <tr>\n",
       "      <th>13</th>\n",
       "      <td>f__Eggerthellaceae</td>\n",
       "      <td>1</td>\n",
       "      <td>0.2</td>\n",
       "      <td>grad_boost</td>\n",
       "    </tr>\n",
       "    <tr>\n",
       "      <th>14</th>\n",
       "      <td>f__Enterobacteriaceae</td>\n",
       "      <td>1</td>\n",
       "      <td>0.2</td>\n",
       "      <td>grad_boost</td>\n",
       "    </tr>\n",
       "    <tr>\n",
       "      <th>15</th>\n",
       "      <td>f__Enterococcaceae</td>\n",
       "      <td>1</td>\n",
       "      <td>0.2</td>\n",
       "      <td>grad_boost</td>\n",
       "    </tr>\n",
       "    <tr>\n",
       "      <th>16</th>\n",
       "      <td>f__Erysipelotrichaceae</td>\n",
       "      <td>1</td>\n",
       "      <td>0.2</td>\n",
       "      <td>grad_boost</td>\n",
       "    </tr>\n",
       "    <tr>\n",
       "      <th>17</th>\n",
       "      <td>f__Lactobacillaceae</td>\n",
       "      <td>1</td>\n",
       "      <td>0.2</td>\n",
       "      <td>grad_boost</td>\n",
       "    </tr>\n",
       "    <tr>\n",
       "      <th>18</th>\n",
       "      <td>f__Rikenellaceae</td>\n",
       "      <td>1</td>\n",
       "      <td>0.2</td>\n",
       "      <td>grad_boost</td>\n",
       "    </tr>\n",
       "    <tr>\n",
       "      <th>19</th>\n",
       "      <td>f__Sutterellaceae</td>\n",
       "      <td>1</td>\n",
       "      <td>0.2</td>\n",
       "      <td>grad_boost</td>\n",
       "    </tr>\n",
       "    <tr>\n",
       "      <th>20</th>\n",
       "      <td>f__Tannerellaceae</td>\n",
       "      <td>1</td>\n",
       "      <td>0.2</td>\n",
       "      <td>grad_boost</td>\n",
       "    </tr>\n",
       "    <tr>\n",
       "      <th>21</th>\n",
       "      <td>f__UCG-010</td>\n",
       "      <td>1</td>\n",
       "      <td>0.2</td>\n",
       "      <td>grad_boost</td>\n",
       "    </tr>\n",
       "  </tbody>\n",
       "</table>\n",
       "</div>"
      ],
      "text/plain": [
       "                      feature num_occurences av_occurences       bs_model\n",
       "0          f__Enterococcaceae              2           0.4  random_forest\n",
       "1    f__Peptostreptococcaceae              2           0.4  random_forest\n",
       "2          f__Eggerthellaceae              1           0.2  random_forest\n",
       "3       f__Enterobacteriaceae              1           0.2  random_forest\n",
       "4      f__Erysipelotrichaceae              1           0.2  random_forest\n",
       "5         f__Lactobacillaceae              1           0.2  random_forest\n",
       "6            f__Rikenellaceae              1           0.2  random_forest\n",
       "7          f__Ruminococcaceae              1           0.2  random_forest\n",
       "8           f__Sutterellaceae              1           0.2  random_forest\n",
       "9           f__Tannerellaceae              1           0.2  random_forest\n",
       "10                 f__UCG-010              1           0.2  random_forest\n",
       "11   f__Peptostreptococcaceae              2           0.4     grad_boost\n",
       "12         f__Akkermansiaceae              1           0.2     grad_boost\n",
       "13         f__Eggerthellaceae              1           0.2     grad_boost\n",
       "14      f__Enterobacteriaceae              1           0.2     grad_boost\n",
       "15         f__Enterococcaceae              1           0.2     grad_boost\n",
       "16     f__Erysipelotrichaceae              1           0.2     grad_boost\n",
       "17        f__Lactobacillaceae              1           0.2     grad_boost\n",
       "18           f__Rikenellaceae              1           0.2     grad_boost\n",
       "19          f__Sutterellaceae              1           0.2     grad_boost\n",
       "20          f__Tannerellaceae              1           0.2     grad_boost\n",
       "21                 f__UCG-010              1           0.2     grad_boost"
      ]
     },
     "execution_count": 10,
     "metadata": {},
     "output_type": "execute_result"
    }
   ],
   "source": [
    "bloom_test_features"
   ]
  },
  {
   "cell_type": "markdown",
   "metadata": {},
   "source": [
    "## Diet"
   ]
  },
  {
   "cell_type": "code",
   "execution_count": 11,
   "metadata": {},
   "outputs": [],
   "source": [
    "## creating x and y dataframes for kfold and boruta shap analysis\n",
    "diet_xy = make_xy_tables(meta_df=meta,\n",
    "                         otu_df=family_deltas_df,\n",
    "                         merge_on=\"mouse_id\",\n",
    "                         y_col=\"diet\")\n",
    "\n",
    "diet_x_df = diet_xy[\"x_dataframe\"]\n",
    "diet_y_df = diet_xy[\"y_dataframe\"]"
   ]
  },
  {
   "cell_type": "code",
   "execution_count": 12,
   "metadata": {},
   "outputs": [
    {
     "name": "stdout",
     "output_type": "stream",
     "text": [
      "Fold 0:\n",
      "Training dataset index: [10 11 12 13 14 15 16 17 18 19 20 21 22 23 24 25 26 27 28 29 30 31 32 33\n",
      " 34 35 36 37 38 39 40 41 42 43 44 45 46 47 48 49]\n",
      "Testing dataset index: [0 1 2 3 4 5 6 7 8 9]\n"
     ]
    },
    {
     "data": {
      "application/vnd.jupyter.widget-view+json": {
       "model_id": "059d263debd24b46a86e51b4b9205afe",
       "version_major": 2,
       "version_minor": 0
      },
      "text/plain": [
       "  0%|          | 0/100 [00:00<?, ?it/s]"
      ]
     },
     "metadata": {},
     "output_type": "display_data"
    },
    {
     "name": "stdout",
     "output_type": "stream",
     "text": [
      "3 attributes confirmed important: [' f__Peptostreptococcaceae', ' f__Muribaculaceae', ' f__Oscillospiraceae']\n",
      "45 attributes confirmed unimportant: [' f__Prevotellaceae', ' f__Deferribacteraceae', ' f__Acholeplasmataceae', ' f__Sutterellaceae', ' f__Enterobacteriaceae', ' f__Lachnospiraceae', ' f__Moraxellaceae', ' f__Anaerovoracaceae', ' f__Saccharimonadaceae', ' f__Bifidobacteriaceae', ' f__Bacillaceae', ' f__Moorellaceae', ' f__Streptococcaceae', ' f__Hungateiclostridiaceae', ' f__Morganellaceae', ' f__Oscillospirales', ' f__Weeksellaceae', ' f__uncultured', ' f__Monoglobaceae', ' f__Lactobacillaceae', ' f__Erysipelotrichaceae', ' f__Rikenellaceae', ' f__Enterococcaceae', ' f__Sphingomonadaceae', ' f__UCG-010', ' f__Clostridia_UCG-014', ' f__Christensenellaceae', ' f__Tannerellaceae', ' f__Anaerofustaceae', ' f__Marinifilaceae', ' f__RF39', ' f__Ruminococcaceae', ' f__Xanthomonadaceae', ' f__Eggerthellaceae', ' f__Akkermansiaceae', ' f__AKAU3644', ' f__Clostridiaceae', ' f__Clostridia_vadinBB60_group', ' f__[Eubacterium]_coprostanoligenes_group', ' f__Spirosomaceae', ' f__Bacteroidaceae', ' f__Beggiatoaceae', ' f__Gastranaerophilales', ' f__Atopobiaceae', ' f__Alicyclobacillaceae']\n",
      "4 tentative attributes remains: [' f__Butyricicoccaceae', ' f__Erysipelatoclostridiaceae', ' f__Desulfovibrionaceae', ' f__Peptococcaceae']\n"
     ]
    },
    {
     "data": {
      "application/vnd.jupyter.widget-view+json": {
       "model_id": "562225aa388e4e65b3fbf4f75d17fac9",
       "version_major": 2,
       "version_minor": 0
      },
      "text/plain": [
       "  0%|          | 0/100 [00:00<?, ?it/s]"
      ]
     },
     "metadata": {},
     "output_type": "display_data"
    },
    {
     "name": "stdout",
     "output_type": "stream",
     "text": [
      "3 attributes confirmed important: [' f__Lactobacillaceae', ' f__Erysipelatoclostridiaceae', ' f__Anaerovoracaceae']\n",
      "49 attributes confirmed unimportant: [' f__Peptostreptococcaceae', ' f__Prevotellaceae', ' f__Deferribacteraceae', ' f__Acholeplasmataceae', ' f__Oscillospiraceae', ' f__Sutterellaceae', ' f__Enterobacteriaceae', ' f__Lachnospiraceae', ' f__Moraxellaceae', ' f__Desulfovibrionaceae', ' f__Saccharimonadaceae', ' f__Bifidobacteriaceae', ' f__Bacillaceae', ' f__Muribaculaceae', ' f__Moorellaceae', ' f__Peptococcaceae', ' f__Streptococcaceae', ' f__Hungateiclostridiaceae', ' f__Morganellaceae', ' f__Oscillospirales', ' f__Weeksellaceae', ' f__uncultured', ' f__Monoglobaceae', ' f__Erysipelotrichaceae', ' f__Rikenellaceae', ' f__Enterococcaceae', ' f__Sphingomonadaceae', ' f__UCG-010', ' f__Clostridia_UCG-014', ' f__Christensenellaceae', ' f__Tannerellaceae', ' f__Anaerofustaceae', ' f__Marinifilaceae', ' f__RF39', ' f__Ruminococcaceae', ' f__Xanthomonadaceae', ' f__Akkermansiaceae', ' f__Butyricicoccaceae', ' f__Eggerthellaceae', ' f__AKAU3644', ' f__Clostridiaceae', ' f__Clostridia_vadinBB60_group', ' f__[Eubacterium]_coprostanoligenes_group', ' f__Spirosomaceae', ' f__Bacteroidaceae', ' f__Beggiatoaceae', ' f__Gastranaerophilales', ' f__Atopobiaceae', ' f__Alicyclobacillaceae']\n",
      "0 tentative attributes remains: []\n",
      "Fold 1:\n",
      "Training dataset index: [ 0  1  2  3  4  5  6  7  8  9 20 21 22 23 24 25 26 27 28 29 30 31 32 33\n",
      " 34 35 36 37 38 39 40 41 42 43 44 45 46 47 48 49]\n",
      "Testing dataset index: [10 11 12 13 14 15 16 17 18 19]\n"
     ]
    },
    {
     "data": {
      "application/vnd.jupyter.widget-view+json": {
       "model_id": "c512b305dcbb4f94b1a211405be5b9c6",
       "version_major": 2,
       "version_minor": 0
      },
      "text/plain": [
       "  0%|          | 0/100 [00:00<?, ?it/s]"
      ]
     },
     "metadata": {},
     "output_type": "display_data"
    },
    {
     "name": "stdout",
     "output_type": "stream",
     "text": [
      "5 attributes confirmed important: [' f__Erysipelotrichaceae', ' f__Enterococcaceae', ' f__Sutterellaceae', ' f__Enterobacteriaceae', ' f__Erysipelatoclostridiaceae']\n",
      "45 attributes confirmed unimportant: [' f__Prevotellaceae', ' f__Deferribacteraceae', ' f__Acholeplasmataceae', ' f__Oscillospiraceae', ' f__Lachnospiraceae', ' f__Moraxellaceae', ' f__Anaerovoracaceae', ' f__Desulfovibrionaceae', ' f__Saccharimonadaceae', ' f__Bifidobacteriaceae', ' f__Bacillaceae', ' f__Muribaculaceae', ' f__Moorellaceae', ' f__Peptococcaceae', ' f__Streptococcaceae', ' f__Hungateiclostridiaceae', ' f__Morganellaceae', ' f__Oscillospirales', ' f__Weeksellaceae', ' f__uncultured', ' f__Monoglobaceae', ' f__Lactobacillaceae', ' f__Rikenellaceae', ' f__Sphingomonadaceae', ' f__UCG-010', ' f__Clostridia_UCG-014', ' f__Christensenellaceae', ' f__Anaerofustaceae', ' f__Marinifilaceae', ' f__RF39', ' f__Ruminococcaceae', ' f__Xanthomonadaceae', ' f__Butyricicoccaceae', ' f__Eggerthellaceae', ' f__Akkermansiaceae', ' f__AKAU3644', ' f__Clostridiaceae', ' f__Clostridia_vadinBB60_group', ' f__[Eubacterium]_coprostanoligenes_group', ' f__Spirosomaceae', ' f__Bacteroidaceae', ' f__Beggiatoaceae', ' f__Gastranaerophilales', ' f__Atopobiaceae', ' f__Alicyclobacillaceae']\n",
      "2 tentative attributes remains: [' f__Peptostreptococcaceae', ' f__Tannerellaceae']\n"
     ]
    },
    {
     "data": {
      "application/vnd.jupyter.widget-view+json": {
       "model_id": "eea4ab75484f426f86e574e06055179d",
       "version_major": 2,
       "version_minor": 0
      },
      "text/plain": [
       "  0%|          | 0/100 [00:00<?, ?it/s]"
      ]
     },
     "metadata": {},
     "output_type": "display_data"
    },
    {
     "name": "stdout",
     "output_type": "stream",
     "text": [
      "4 attributes confirmed important: [' f__Enterococcaceae', ' f__Peptostreptococcaceae', ' f__Erysipelotrichaceae', ' f__Tannerellaceae']\n",
      "48 attributes confirmed unimportant: [' f__Prevotellaceae', ' f__Deferribacteraceae', ' f__Acholeplasmataceae', ' f__Oscillospiraceae', ' f__Sutterellaceae', ' f__Enterobacteriaceae', ' f__Erysipelatoclostridiaceae', ' f__Lachnospiraceae', ' f__Moraxellaceae', ' f__Anaerovoracaceae', ' f__Desulfovibrionaceae', ' f__Saccharimonadaceae', ' f__Bifidobacteriaceae', ' f__Bacillaceae', ' f__Muribaculaceae', ' f__Moorellaceae', ' f__Peptococcaceae', ' f__Streptococcaceae', ' f__Hungateiclostridiaceae', ' f__Morganellaceae', ' f__Oscillospirales', ' f__Weeksellaceae', ' f__uncultured', ' f__Monoglobaceae', ' f__Lactobacillaceae', ' f__Rikenellaceae', ' f__Sphingomonadaceae', ' f__UCG-010', ' f__Clostridia_UCG-014', ' f__Christensenellaceae', ' f__Anaerofustaceae', ' f__Marinifilaceae', ' f__RF39', ' f__Ruminococcaceae', ' f__Xanthomonadaceae', ' f__Eggerthellaceae', ' f__Akkermansiaceae', ' f__Butyricicoccaceae', ' f__AKAU3644', ' f__Clostridiaceae', ' f__Clostridia_vadinBB60_group', ' f__[Eubacterium]_coprostanoligenes_group', ' f__Spirosomaceae', ' f__Bacteroidaceae', ' f__Beggiatoaceae', ' f__Gastranaerophilales', ' f__Atopobiaceae', ' f__Alicyclobacillaceae']\n",
      "0 tentative attributes remains: []\n",
      "Fold 2:\n",
      "Training dataset index: [ 0  1  2  3  4  5  6  7  8  9 10 11 12 13 14 15 16 17 18 19 30 31 32 33\n",
      " 34 35 36 37 38 39 40 41 42 43 44 45 46 47 48 49]\n",
      "Testing dataset index: [20 21 22 23 24 25 26 27 28 29]\n"
     ]
    },
    {
     "data": {
      "application/vnd.jupyter.widget-view+json": {
       "model_id": "c03a578871994734a8d5dfbb16d09284",
       "version_major": 2,
       "version_minor": 0
      },
      "text/plain": [
       "  0%|          | 0/100 [00:00<?, ?it/s]"
      ]
     },
     "metadata": {},
     "output_type": "display_data"
    },
    {
     "name": "stdout",
     "output_type": "stream",
     "text": [
      "3 attributes confirmed important: [' f__Enterococcaceae', ' f__UCG-010', ' f__Eggerthellaceae']\n",
      "47 attributes confirmed unimportant: [' f__Prevotellaceae', ' f__Deferribacteraceae', ' f__Acholeplasmataceae', ' f__Oscillospiraceae', ' f__Sutterellaceae', ' f__Enterobacteriaceae', ' f__Erysipelatoclostridiaceae', ' f__Lachnospiraceae', ' f__Moraxellaceae', ' f__Anaerovoracaceae', ' f__Desulfovibrionaceae', ' f__Saccharimonadaceae', ' f__Bifidobacteriaceae', ' f__Bacillaceae', ' f__Muribaculaceae', ' f__Moorellaceae', ' f__Peptococcaceae', ' f__Streptococcaceae', ' f__Hungateiclostridiaceae', ' f__Morganellaceae', ' f__Oscillospirales', ' f__Weeksellaceae', ' f__uncultured', ' f__Monoglobaceae', ' f__Lactobacillaceae', ' f__Erysipelotrichaceae', ' f__Rikenellaceae', ' f__Sphingomonadaceae', ' f__Clostridia_UCG-014', ' f__Christensenellaceae', ' f__Anaerofustaceae', ' f__Marinifilaceae', ' f__RF39', ' f__Ruminococcaceae', ' f__Xanthomonadaceae', ' f__Akkermansiaceae', ' f__Butyricicoccaceae', ' f__AKAU3644', ' f__Clostridiaceae', ' f__Clostridia_vadinBB60_group', ' f__[Eubacterium]_coprostanoligenes_group', ' f__Spirosomaceae', ' f__Bacteroidaceae', ' f__Beggiatoaceae', ' f__Gastranaerophilales', ' f__Atopobiaceae', ' f__Alicyclobacillaceae']\n",
      "2 tentative attributes remains: [' f__Peptostreptococcaceae', ' f__Tannerellaceae']\n"
     ]
    },
    {
     "data": {
      "application/vnd.jupyter.widget-view+json": {
       "model_id": "b5613a27238d492680ce15ac0b824bb0",
       "version_major": 2,
       "version_minor": 0
      },
      "text/plain": [
       "  0%|          | 0/100 [00:00<?, ?it/s]"
      ]
     },
     "metadata": {},
     "output_type": "display_data"
    },
    {
     "name": "stdout",
     "output_type": "stream",
     "text": [
      "7 attributes confirmed important: [' f__Akkermansiaceae', ' f__Lactobacillaceae', ' f__Enterococcaceae', ' f__Morganellaceae', ' f__Erysipelatoclostridiaceae', ' f__Enterobacteriaceae', ' f__Tannerellaceae']\n",
      "44 attributes confirmed unimportant: [' f__Peptostreptococcaceae', ' f__Prevotellaceae', ' f__Deferribacteraceae', ' f__Acholeplasmataceae', ' f__Oscillospiraceae', ' f__Sutterellaceae', ' f__Lachnospiraceae', ' f__Moraxellaceae', ' f__Anaerovoracaceae', ' f__Desulfovibrionaceae', ' f__Saccharimonadaceae', ' f__Bifidobacteriaceae', ' f__Bacillaceae', ' f__Muribaculaceae', ' f__Moorellaceae', ' f__Peptococcaceae', ' f__Streptococcaceae', ' f__Hungateiclostridiaceae', ' f__Oscillospirales', ' f__Weeksellaceae', ' f__uncultured', ' f__Monoglobaceae', ' f__Erysipelotrichaceae', ' f__Rikenellaceae', ' f__Sphingomonadaceae', ' f__Clostridia_UCG-014', ' f__Christensenellaceae', ' f__Anaerofustaceae', ' f__Marinifilaceae', ' f__RF39', ' f__Ruminococcaceae', ' f__Xanthomonadaceae', ' f__Butyricicoccaceae', ' f__Eggerthellaceae', ' f__AKAU3644', ' f__Clostridiaceae', ' f__Clostridia_vadinBB60_group', ' f__[Eubacterium]_coprostanoligenes_group', ' f__Spirosomaceae', ' f__Bacteroidaceae', ' f__Beggiatoaceae', ' f__Gastranaerophilales', ' f__Atopobiaceae', ' f__Alicyclobacillaceae']\n",
      "1 tentative attributes remains: [' f__UCG-010']\n",
      "Fold 3:\n",
      "Training dataset index: [ 0  1  2  3  4  5  6  7  8  9 10 11 12 13 14 15 16 17 18 19 20 21 22 23\n",
      " 24 25 26 27 28 29 40 41 42 43 44 45 46 47 48 49]\n",
      "Testing dataset index: [30 31 32 33 34 35 36 37 38 39]\n"
     ]
    },
    {
     "data": {
      "application/vnd.jupyter.widget-view+json": {
       "model_id": "0b4bd510496f4f69afe2fb10506150bd",
       "version_major": 2,
       "version_minor": 0
      },
      "text/plain": [
       "  0%|          | 0/100 [00:00<?, ?it/s]"
      ]
     },
     "metadata": {},
     "output_type": "display_data"
    },
    {
     "name": "stdout",
     "output_type": "stream",
     "text": [
      "3 attributes confirmed important: [' f__Eggerthellaceae', ' f__Enterobacteriaceae', ' f__Enterococcaceae']\n",
      "49 attributes confirmed unimportant: [' f__Peptostreptococcaceae', ' f__Prevotellaceae', ' f__Deferribacteraceae', ' f__Acholeplasmataceae', ' f__Oscillospiraceae', ' f__Sutterellaceae', ' f__Erysipelatoclostridiaceae', ' f__Lachnospiraceae', ' f__Moraxellaceae', ' f__Desulfovibrionaceae', ' f__Anaerovoracaceae', ' f__Saccharimonadaceae', ' f__Bifidobacteriaceae', ' f__Bacillaceae', ' f__Muribaculaceae', ' f__Moorellaceae', ' f__Peptococcaceae', ' f__Streptococcaceae', ' f__Hungateiclostridiaceae', ' f__Morganellaceae', ' f__Oscillospirales', ' f__Weeksellaceae', ' f__uncultured', ' f__Monoglobaceae', ' f__Lactobacillaceae', ' f__Erysipelotrichaceae', ' f__Rikenellaceae', ' f__Sphingomonadaceae', ' f__UCG-010', ' f__Clostridia_UCG-014', ' f__Christensenellaceae', ' f__Tannerellaceae', ' f__Anaerofustaceae', ' f__Marinifilaceae', ' f__RF39', ' f__Ruminococcaceae', ' f__Xanthomonadaceae', ' f__Akkermansiaceae', ' f__Butyricicoccaceae', ' f__AKAU3644', ' f__Clostridiaceae', ' f__Clostridia_vadinBB60_group', ' f__[Eubacterium]_coprostanoligenes_group', ' f__Spirosomaceae', ' f__Bacteroidaceae', ' f__Beggiatoaceae', ' f__Gastranaerophilales', ' f__Atopobiaceae', ' f__Alicyclobacillaceae']\n",
      "0 tentative attributes remains: []\n"
     ]
    },
    {
     "data": {
      "application/vnd.jupyter.widget-view+json": {
       "model_id": "0b2d605bf48e4ee4bf6d2b3e5f397909",
       "version_major": 2,
       "version_minor": 0
      },
      "text/plain": [
       "  0%|          | 0/100 [00:00<?, ?it/s]"
      ]
     },
     "metadata": {},
     "output_type": "display_data"
    },
    {
     "name": "stdout",
     "output_type": "stream",
     "text": [
      "5 attributes confirmed important: [' f__Akkermansiaceae', ' f__Erysipelotrichaceae', ' f__Streptococcaceae', ' f__Sutterellaceae', ' f__Tannerellaceae']\n",
      "47 attributes confirmed unimportant: [' f__Peptostreptococcaceae', ' f__Prevotellaceae', ' f__Deferribacteraceae', ' f__Acholeplasmataceae', ' f__Oscillospiraceae', ' f__Enterobacteriaceae', ' f__Erysipelatoclostridiaceae', ' f__Lachnospiraceae', ' f__Moraxellaceae', ' f__Anaerovoracaceae', ' f__Desulfovibrionaceae', ' f__Saccharimonadaceae', ' f__Bifidobacteriaceae', ' f__Bacillaceae', ' f__Muribaculaceae', ' f__Moorellaceae', ' f__Peptococcaceae', ' f__Hungateiclostridiaceae', ' f__Morganellaceae', ' f__Oscillospirales', ' f__Weeksellaceae', ' f__uncultured', ' f__Monoglobaceae', ' f__Lactobacillaceae', ' f__Rikenellaceae', ' f__Enterococcaceae', ' f__Sphingomonadaceae', ' f__UCG-010', ' f__Clostridia_UCG-014', ' f__Christensenellaceae', ' f__Anaerofustaceae', ' f__Marinifilaceae', ' f__RF39', ' f__Ruminococcaceae', ' f__Xanthomonadaceae', ' f__Butyricicoccaceae', ' f__Eggerthellaceae', ' f__AKAU3644', ' f__Clostridiaceae', ' f__Clostridia_vadinBB60_group', ' f__[Eubacterium]_coprostanoligenes_group', ' f__Spirosomaceae', ' f__Bacteroidaceae', ' f__Beggiatoaceae', ' f__Gastranaerophilales', ' f__Atopobiaceae', ' f__Alicyclobacillaceae']\n",
      "0 tentative attributes remains: []\n",
      "Fold 4:\n",
      "Training dataset index: [ 0  1  2  3  4  5  6  7  8  9 10 11 12 13 14 15 16 17 18 19 20 21 22 23\n",
      " 24 25 26 27 28 29 30 31 32 33 34 35 36 37 38 39]\n",
      "Testing dataset index: [40 41 42 43 44 45 46 47 48 49]\n"
     ]
    },
    {
     "data": {
      "application/vnd.jupyter.widget-view+json": {
       "model_id": "116e404709f54344ab8ece8f01b9087f",
       "version_major": 2,
       "version_minor": 0
      },
      "text/plain": [
       "  0%|          | 0/100 [00:00<?, ?it/s]"
      ]
     },
     "metadata": {},
     "output_type": "display_data"
    },
    {
     "name": "stdout",
     "output_type": "stream",
     "text": [
      "5 attributes confirmed important: [' f__Eggerthellaceae', ' f__Peptostreptococcaceae', ' f__Sutterellaceae', ' f__Erysipelatoclostridiaceae', ' f__Tannerellaceae']\n",
      "46 attributes confirmed unimportant: [' f__Prevotellaceae', ' f__Deferribacteraceae', ' f__Acholeplasmataceae', ' f__Oscillospiraceae', ' f__Enterobacteriaceae', ' f__Lachnospiraceae', ' f__Moraxellaceae', ' f__Anaerovoracaceae', ' f__Desulfovibrionaceae', ' f__Saccharimonadaceae', ' f__Bifidobacteriaceae', ' f__Bacillaceae', ' f__Muribaculaceae', ' f__Moorellaceae', ' f__Peptococcaceae', ' f__Streptococcaceae', ' f__Hungateiclostridiaceae', ' f__Morganellaceae', ' f__Oscillospirales', ' f__Weeksellaceae', ' f__uncultured', ' f__Monoglobaceae', ' f__Lactobacillaceae', ' f__Erysipelotrichaceae', ' f__Rikenellaceae', ' f__Sphingomonadaceae', ' f__UCG-010', ' f__Clostridia_UCG-014', ' f__Christensenellaceae', ' f__Anaerofustaceae', ' f__Marinifilaceae', ' f__RF39', ' f__Ruminococcaceae', ' f__Xanthomonadaceae', ' f__Akkermansiaceae', ' f__Butyricicoccaceae', ' f__AKAU3644', ' f__Clostridiaceae', ' f__Clostridia_vadinBB60_group', ' f__[Eubacterium]_coprostanoligenes_group', ' f__Spirosomaceae', ' f__Bacteroidaceae', ' f__Beggiatoaceae', ' f__Gastranaerophilales', ' f__Atopobiaceae', ' f__Alicyclobacillaceae']\n",
      "1 tentative attributes remains: [' f__Enterococcaceae']\n"
     ]
    },
    {
     "data": {
      "application/vnd.jupyter.widget-view+json": {
       "model_id": "d7a96b1ff2e44043933e05b9768c5451",
       "version_major": 2,
       "version_minor": 0
      },
      "text/plain": [
       "  0%|          | 0/100 [00:00<?, ?it/s]"
      ]
     },
     "metadata": {},
     "output_type": "display_data"
    },
    {
     "name": "stdout",
     "output_type": "stream",
     "text": [
      "4 attributes confirmed important: [' f__Peptostreptococcaceae', ' f__UCG-010', ' f__Sutterellaceae', ' f__Rikenellaceae']\n",
      "48 attributes confirmed unimportant: [' f__Prevotellaceae', ' f__Deferribacteraceae', ' f__Acholeplasmataceae', ' f__Oscillospiraceae', ' f__Enterobacteriaceae', ' f__Erysipelatoclostridiaceae', ' f__Lachnospiraceae', ' f__Moraxellaceae', ' f__Anaerovoracaceae', ' f__Desulfovibrionaceae', ' f__Saccharimonadaceae', ' f__Bifidobacteriaceae', ' f__Bacillaceae', ' f__Muribaculaceae', ' f__Moorellaceae', ' f__Peptococcaceae', ' f__Streptococcaceae', ' f__Hungateiclostridiaceae', ' f__Morganellaceae', ' f__Oscillospirales', ' f__Weeksellaceae', ' f__uncultured', ' f__Monoglobaceae', ' f__Lactobacillaceae', ' f__Erysipelotrichaceae', ' f__Enterococcaceae', ' f__Sphingomonadaceae', ' f__Clostridia_UCG-014', ' f__Christensenellaceae', ' f__Tannerellaceae', ' f__Anaerofustaceae', ' f__Marinifilaceae', ' f__RF39', ' f__Ruminococcaceae', ' f__Xanthomonadaceae', ' f__Akkermansiaceae', ' f__Butyricicoccaceae', ' f__Eggerthellaceae', ' f__AKAU3644', ' f__Clostridiaceae', ' f__Clostridia_vadinBB60_group', ' f__[Eubacterium]_coprostanoligenes_group', ' f__Spirosomaceae', ' f__Bacteroidaceae', ' f__Beggiatoaceae', ' f__Gastranaerophilales', ' f__Atopobiaceae', ' f__Alicyclobacillaceae']\n",
      "0 tentative attributes remains: []\n"
     ]
    }
   ],
   "source": [
    "## I can't use both random forest and gradient boosting classifiers on the diet data since it's not binary\n",
    "## and its not supported :(\n",
    "diet_results = kfold_boruta_shap(k_fold=kf,\n",
    "                                 feature_selector=random_forest_bs,\n",
    "                                 x_dataframe=diet_x_df,\n",
    "                                 y_dataframe=diet_y_df,\n",
    "                                 trial_num=100,\n",
    "                                 run_name='diet')"
   ]
  },
  {
   "cell_type": "code",
   "execution_count": 13,
   "metadata": {},
   "outputs": [
    {
     "data": {
      "text/html": [
       "<div>\n",
       "<style scoped>\n",
       "    .dataframe tbody tr th:only-of-type {\n",
       "        vertical-align: middle;\n",
       "    }\n",
       "\n",
       "    .dataframe tbody tr th {\n",
       "        vertical-align: top;\n",
       "    }\n",
       "\n",
       "    .dataframe thead th {\n",
       "        text-align: right;\n",
       "    }\n",
       "</style>\n",
       "<table border=\"1\" class=\"dataframe\">\n",
       "  <thead>\n",
       "    <tr style=\"text-align: right;\">\n",
       "      <th></th>\n",
       "      <th>feature</th>\n",
       "      <th>num_occurences</th>\n",
       "      <th>av_occurences</th>\n",
       "    </tr>\n",
       "  </thead>\n",
       "  <tbody>\n",
       "    <tr>\n",
       "      <th>0</th>\n",
       "      <td>f__Eggerthellaceae</td>\n",
       "      <td>3</td>\n",
       "      <td>0.6</td>\n",
       "    </tr>\n",
       "    <tr>\n",
       "      <th>2</th>\n",
       "      <td>f__Enterococcaceae</td>\n",
       "      <td>3</td>\n",
       "      <td>0.6</td>\n",
       "    </tr>\n",
       "    <tr>\n",
       "      <th>1</th>\n",
       "      <td>f__Enterobacteriaceae</td>\n",
       "      <td>2</td>\n",
       "      <td>0.4</td>\n",
       "    </tr>\n",
       "    <tr>\n",
       "      <th>3</th>\n",
       "      <td>f__Erysipelatoclostridiaceae</td>\n",
       "      <td>2</td>\n",
       "      <td>0.4</td>\n",
       "    </tr>\n",
       "    <tr>\n",
       "      <th>7</th>\n",
       "      <td>f__Peptostreptococcaceae</td>\n",
       "      <td>2</td>\n",
       "      <td>0.4</td>\n",
       "    </tr>\n",
       "    <tr>\n",
       "      <th>8</th>\n",
       "      <td>f__Sutterellaceae</td>\n",
       "      <td>2</td>\n",
       "      <td>0.4</td>\n",
       "    </tr>\n",
       "    <tr>\n",
       "      <th>4</th>\n",
       "      <td>f__Erysipelotrichaceae</td>\n",
       "      <td>1</td>\n",
       "      <td>0.2</td>\n",
       "    </tr>\n",
       "    <tr>\n",
       "      <th>5</th>\n",
       "      <td>f__Muribaculaceae</td>\n",
       "      <td>1</td>\n",
       "      <td>0.2</td>\n",
       "    </tr>\n",
       "    <tr>\n",
       "      <th>6</th>\n",
       "      <td>f__Oscillospiraceae</td>\n",
       "      <td>1</td>\n",
       "      <td>0.2</td>\n",
       "    </tr>\n",
       "    <tr>\n",
       "      <th>9</th>\n",
       "      <td>f__Tannerellaceae</td>\n",
       "      <td>1</td>\n",
       "      <td>0.2</td>\n",
       "    </tr>\n",
       "    <tr>\n",
       "      <th>10</th>\n",
       "      <td>f__UCG-010</td>\n",
       "      <td>1</td>\n",
       "      <td>0.2</td>\n",
       "    </tr>\n",
       "  </tbody>\n",
       "</table>\n",
       "</div>"
      ],
      "text/plain": [
       "                          feature num_occurences av_occurences\n",
       "0              f__Eggerthellaceae              3           0.6\n",
       "2              f__Enterococcaceae              3           0.6\n",
       "1           f__Enterobacteriaceae              2           0.4\n",
       "3    f__Erysipelatoclostridiaceae              2           0.4\n",
       "7        f__Peptostreptococcaceae              2           0.4\n",
       "8               f__Sutterellaceae              2           0.4\n",
       "4          f__Erysipelotrichaceae              1           0.2\n",
       "5               f__Muribaculaceae              1           0.2\n",
       "6             f__Oscillospiraceae              1           0.2\n",
       "9               f__Tannerellaceae              1           0.2\n",
       "10                     f__UCG-010              1           0.2"
      ]
     },
     "execution_count": 13,
     "metadata": {},
     "output_type": "execute_result"
    }
   ],
   "source": [
    "## selected features from boruta shap on training data \n",
    "diet_train_list = diet_results[\"diet_train\"]\n",
    "bs_diet_train_df = create_occurence_table(input_list=diet_train_list)\n",
    "\n",
    "bs_diet_train_df"
   ]
  },
  {
   "cell_type": "code",
   "execution_count": 14,
   "metadata": {},
   "outputs": [
    {
     "data": {
      "text/html": [
       "<div>\n",
       "<style scoped>\n",
       "    .dataframe tbody tr th:only-of-type {\n",
       "        vertical-align: middle;\n",
       "    }\n",
       "\n",
       "    .dataframe tbody tr th {\n",
       "        vertical-align: top;\n",
       "    }\n",
       "\n",
       "    .dataframe thead th {\n",
       "        text-align: right;\n",
       "    }\n",
       "</style>\n",
       "<table border=\"1\" class=\"dataframe\">\n",
       "  <thead>\n",
       "    <tr style=\"text-align: right;\">\n",
       "      <th></th>\n",
       "      <th>feature</th>\n",
       "      <th>num_occurences</th>\n",
       "      <th>av_occurences</th>\n",
       "    </tr>\n",
       "  </thead>\n",
       "  <tbody>\n",
       "    <tr>\n",
       "      <th>12</th>\n",
       "      <td>f__Tannerellaceae</td>\n",
       "      <td>3</td>\n",
       "      <td>0.6</td>\n",
       "    </tr>\n",
       "    <tr>\n",
       "      <th>0</th>\n",
       "      <td>f__Akkermansiaceae</td>\n",
       "      <td>2</td>\n",
       "      <td>0.4</td>\n",
       "    </tr>\n",
       "    <tr>\n",
       "      <th>3</th>\n",
       "      <td>f__Enterococcaceae</td>\n",
       "      <td>2</td>\n",
       "      <td>0.4</td>\n",
       "    </tr>\n",
       "    <tr>\n",
       "      <th>4</th>\n",
       "      <td>f__Erysipelatoclostridiaceae</td>\n",
       "      <td>2</td>\n",
       "      <td>0.4</td>\n",
       "    </tr>\n",
       "    <tr>\n",
       "      <th>5</th>\n",
       "      <td>f__Erysipelotrichaceae</td>\n",
       "      <td>2</td>\n",
       "      <td>0.4</td>\n",
       "    </tr>\n",
       "    <tr>\n",
       "      <th>6</th>\n",
       "      <td>f__Lactobacillaceae</td>\n",
       "      <td>2</td>\n",
       "      <td>0.4</td>\n",
       "    </tr>\n",
       "    <tr>\n",
       "      <th>8</th>\n",
       "      <td>f__Peptostreptococcaceae</td>\n",
       "      <td>2</td>\n",
       "      <td>0.4</td>\n",
       "    </tr>\n",
       "    <tr>\n",
       "      <th>11</th>\n",
       "      <td>f__Sutterellaceae</td>\n",
       "      <td>2</td>\n",
       "      <td>0.4</td>\n",
       "    </tr>\n",
       "    <tr>\n",
       "      <th>1</th>\n",
       "      <td>f__Anaerovoracaceae</td>\n",
       "      <td>1</td>\n",
       "      <td>0.2</td>\n",
       "    </tr>\n",
       "    <tr>\n",
       "      <th>2</th>\n",
       "      <td>f__Enterobacteriaceae</td>\n",
       "      <td>1</td>\n",
       "      <td>0.2</td>\n",
       "    </tr>\n",
       "    <tr>\n",
       "      <th>7</th>\n",
       "      <td>f__Morganellaceae</td>\n",
       "      <td>1</td>\n",
       "      <td>0.2</td>\n",
       "    </tr>\n",
       "    <tr>\n",
       "      <th>9</th>\n",
       "      <td>f__Rikenellaceae</td>\n",
       "      <td>1</td>\n",
       "      <td>0.2</td>\n",
       "    </tr>\n",
       "    <tr>\n",
       "      <th>10</th>\n",
       "      <td>f__Streptococcaceae</td>\n",
       "      <td>1</td>\n",
       "      <td>0.2</td>\n",
       "    </tr>\n",
       "    <tr>\n",
       "      <th>13</th>\n",
       "      <td>f__UCG-010</td>\n",
       "      <td>1</td>\n",
       "      <td>0.2</td>\n",
       "    </tr>\n",
       "  </tbody>\n",
       "</table>\n",
       "</div>"
      ],
      "text/plain": [
       "                          feature num_occurences av_occurences\n",
       "12              f__Tannerellaceae              3           0.6\n",
       "0              f__Akkermansiaceae              2           0.4\n",
       "3              f__Enterococcaceae              2           0.4\n",
       "4    f__Erysipelatoclostridiaceae              2           0.4\n",
       "5          f__Erysipelotrichaceae              2           0.4\n",
       "6             f__Lactobacillaceae              2           0.4\n",
       "8        f__Peptostreptococcaceae              2           0.4\n",
       "11              f__Sutterellaceae              2           0.4\n",
       "1             f__Anaerovoracaceae              1           0.2\n",
       "2           f__Enterobacteriaceae              1           0.2\n",
       "7               f__Morganellaceae              1           0.2\n",
       "9                f__Rikenellaceae              1           0.2\n",
       "10            f__Streptococcaceae              1           0.2\n",
       "13                     f__UCG-010              1           0.2"
      ]
     },
     "execution_count": 14,
     "metadata": {},
     "output_type": "execute_result"
    }
   ],
   "source": [
    "## selected features from boruta shap on testing data\n",
    "diet_test_list = diet_results[\"diet_test\"]\n",
    "bs_diet_test_df = create_occurence_table(input_list=diet_test_list)\n",
    "\n",
    "bs_diet_test_df"
   ]
  },
  {
   "cell_type": "markdown",
   "metadata": {},
   "source": [
    "**Saving my outputs**"
   ]
  },
  {
   "cell_type": "code",
   "execution_count": 16,
   "metadata": {},
   "outputs": [],
   "source": [
    "## bloom status\n",
    "bloom_train_features.to_csv(\"../data/outputs/borutaShap_bloom_train.tsv\", sep=\"\\t\")\n",
    "bloom_test_features.to_csv(\"../data/outputs/borutaShap_bloom_test.tsv\", sep=\"\\t\")\n",
    "\n",
    "## diet\n",
    "bs_diet_train_df.to_csv(\"../data/outputs/borutaShap_diet_train.tsv\", sep=\"\\t\")\n",
    "bs_diet_test_df.to_csv(\"../data/outputs/borutaShap_diet_test.tsv\", sep=\"\\t\")"
   ]
  }
 ],
 "metadata": {
  "kernelspec": {
   "display_name": "ml",
   "language": "python",
   "name": "python3"
  },
  "language_info": {
   "codemirror_mode": {
    "name": "ipython",
    "version": 3
   },
   "file_extension": ".py",
   "mimetype": "text/x-python",
   "name": "python",
   "nbconvert_exporter": "python",
   "pygments_lexer": "ipython3",
   "version": "3.12.0"
  }
 },
 "nbformat": 4,
 "nbformat_minor": 2
}

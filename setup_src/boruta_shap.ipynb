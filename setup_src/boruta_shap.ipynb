{
 "cells": [
  {
   "cell_type": "markdown",
   "metadata": {},
   "source": [
    "# **Boruta Shap Feature Analysis**\n",
    "**what I want to learn:**\n",
    "- **which features (taxonomic families) are important to blooms at day 3?**\n",
    "\n",
    "**k fold cross validation documentation:**\n",
    "- https://scikit-learn.org/stable/modules/generated/sklearn.model_selection.KFold.html"
   ]
  },
  {
   "cell_type": "markdown",
   "metadata": {},
   "source": [
    "**Needed libraries**"
   ]
  },
  {
   "cell_type": "code",
   "execution_count": 1,
   "metadata": {},
   "outputs": [],
   "source": [
    "import pandas as pd\n",
    "import numpy as np\n",
    "from BorutaShap import BorutaShap\n",
    "from sklearn.model_selection import train_test_split\n",
    "from sklearn.model_selection import KFold\n",
    "from sklearn.ensemble import (RandomForestClassifier, GradientBoostingClassifier)"
   ]
  },
  {
   "cell_type": "markdown",
   "metadata": {},
   "source": [
    "**Functions**"
   ]
  },
  {
   "cell_type": "code",
   "execution_count": 6,
   "metadata": {},
   "outputs": [],
   "source": [
    "## generate x and y dataframes for machine learning and/or boruta shap/kfold cross validation\n",
    "def make_xy_tables(meta_df,\n",
    "                   otu_df,\n",
    "                   merge_on,\n",
    "                   y_col):\n",
    "    output_dict = {}\n",
    "    \n",
    "    mini_meta = meta_df.loc[:, (merge_on, y_col)]\n",
    "    comb_df = otu_df.merge(mini_meta, how=\"left\", on=[merge_on])\n",
    "    ## x - the side that has the data I want the model to use to predict y\n",
    "    pre_x_df = comb_df.copy()\n",
    "    x_df = pre_x_df.drop(y_col, axis=1)\n",
    "    x_df[merge_on] = x_df[merge_on].astype(float)\n",
    "    x_df = x_df.drop(merge_on, axis=1)\n",
    "    ## y - what is to be predicted\n",
    "    y_df = comb_df[y_col]\n",
    "\n",
    "    ## saving my outputs\n",
    "    output_dict.update({\"x_dataframe\": x_df,\n",
    "                        \"y_dataframe\": y_df})\n",
    "    return(output_dict)\n",
    "\n",
    "\n",
    "## run kfold cross validation on x and y datasets and then identify important features via boruta shap\n",
    "def kfold_boruta_shap(k_fold,\n",
    "                      feature_selector,\n",
    "                      x_dataframe,\n",
    "                      y_dataframe,\n",
    "                      trial_num,\n",
    "                      run_name):\n",
    "    output_dict = {}\n",
    "\n",
    "    train_list = []\n",
    "    for i, (train_index, test_index) in enumerate(k_fold.split(x_dataframe, y_dataframe)):\n",
    "        print(f\"Fold {i}:\")\n",
    "        print(f\"Training dataset index: {train_index}\")\n",
    "        print(f\"Testing dataset index: {test_index}\")\n",
    "        ## setting up test/train datasets \n",
    "        x_train = x_dataframe.filter(items=train_index, axis=0)\n",
    "        x_test = x_dataframe.filter(items=test_index, axis=0)\n",
    "        y_train = y_dataframe.filter(items=train_index, axis=0)\n",
    "        y_test = y_dataframe.filter(items=test_index, axis=0)\n",
    "\n",
    "        ## running boruta shap on training data\n",
    "        feature_selector.fit(X=x_train,\n",
    "                             y=y_train, \n",
    "                             n_trials=trial_num,\n",
    "                             random_state=0,\n",
    "                             sample=False,\n",
    "                             verbose=True)\n",
    "        \n",
    "        train_acc_features = feature_selector.accepted\n",
    "        train_list = train_list + train_acc_features\n",
    "        feature_selector.results_to_csv(filename=f\"{run_name}_f{i}_bs_results\")\n",
    "\n",
    "    ## saving my outputs\n",
    "    output_dict.update({f\"{run_name}_train\": train_list})\n",
    "    return(output_dict)\n",
    "\n",
    "\n",
    "## to make the output table of the kfold cross validated boruta shap results\n",
    "def create_occurence_table(input_list):\n",
    "    wanted_df = pd.DataFrame(np.unique(input_list, return_counts=True)).T\n",
    "    wanted_df.columns = [\"feature\", \"num_occurences\"]\n",
    "    wanted_df = wanted_df.sort_values(by=\"num_occurences\", ascending=False)\n",
    "    wanted_df[\"av_occurences\"] = wanted_df[\"num_occurences\"]/5\n",
    "    return(wanted_df) "
   ]
  },
  {
   "cell_type": "markdown",
   "metadata": {},
   "source": [
    "**File paths**"
   ]
  },
  {
   "cell_type": "code",
   "execution_count": 3,
   "metadata": {},
   "outputs": [],
   "source": [
    "family_deltas_fp = \"../data/family_deltas_wide.tsv\"\n",
    "meta_fp = \"../data/ml_approved_metadata.tsv\"\n",
    "meta_keys_fp = \"../data/meta_dict_keys.tsv\"\n",
    "\n",
    "## common variables for functions\n",
    "bs_cols = ['family', 'num_occurences']\n",
    "bs_sort_by = 'num_occurences'\n",
    "\n",
    "## cross validator and boruta shap \n",
    "kf = KFold(n_splits=5)\n",
    "grad_boost = GradientBoostingClassifier(n_estimators=100)\n",
    "random_forest_bs = BorutaShap(importance_measure='shap', \n",
    "                           classification=False)\n",
    "grad_boost_bs = BorutaShap(model=grad_boost,\n",
    "                        importance_measure='shap',\n",
    "                        classification=True)\n",
    "borutaShap_dict = {\"random_forest\": random_forest_bs}"
   ]
  },
  {
   "cell_type": "markdown",
   "metadata": {},
   "source": [
    "**Reading in files and data wrangling**"
   ]
  },
  {
   "cell_type": "code",
   "execution_count": 7,
   "metadata": {},
   "outputs": [],
   "source": [
    "family_deltas_df = pd.read_csv(family_deltas_fp, sep='\\t')\n",
    "meta = pd.read_csv(meta_fp, sep='\\t')\n",
    "meta_keys = pd.read_csv(meta_keys_fp, sep='\\t')"
   ]
  },
  {
   "cell_type": "code",
   "execution_count": 8,
   "metadata": {},
   "outputs": [],
   "source": [
    "## pulling out mouse id assigned numbers as a dictionary to map it to the deltas table\n",
    "mouse_id_dict = dict(zip(meta_keys.mouse_id, meta_keys.assigned_num))\n",
    "inverse_mouseID_dict = dict(zip(meta_keys.assigned_num, meta_keys.mouse_id))"
   ]
  },
  {
   "cell_type": "code",
   "execution_count": 6,
   "metadata": {},
   "outputs": [],
   "source": [
    "## converting mouse ids in the deltas table to the same numbers as the metadata\n",
    "##family_deltas_df[\"mouse_id\"] = family_deltas_df[\"mouse_id\"].map(mouse_id_dict)"
   ]
  },
  {
   "cell_type": "markdown",
   "metadata": {},
   "source": [
    "## Bloom Status"
   ]
  },
  {
   "cell_type": "code",
   "execution_count": 9,
   "metadata": {},
   "outputs": [],
   "source": [
    "## more data wrangling bc why not i love it!!! (that's sarcasm)\n",
    "## im actually just generating my x and y dataframes \n",
    "bloom_xy = make_xy_tables(meta_df=meta,\n",
    "                          otu_df=family_deltas_df,\n",
    "                          merge_on=\"mouse_id\",\n",
    "                          y_col=\"bloom_status\")\n",
    "\n",
    "bloom_x_df = bloom_xy[\"x_dataframe\"]\n",
    "bloom_y_df = bloom_xy[\"y_dataframe\"]"
   ]
  },
  {
   "cell_type": "code",
   "execution_count": 10,
   "metadata": {},
   "outputs": [
    {
     "name": "stdout",
     "output_type": "stream",
     "text": [
      "Fold 0:\n",
      "Training dataset index: [10 11 12 13 14 15 16 17 18 19 20 21 22 23 24 25 26 27 28 29 30 31 32 33\n",
      " 34 35 36 37 38 39 40 41 42 43 44 45 46]\n",
      "Testing dataset index: [0 1 2 3 4 5 6 7 8 9]\n"
     ]
    },
    {
     "data": {
      "application/vnd.jupyter.widget-view+json": {
       "model_id": "1d6ee3f9e6e74a6c9e3c5d21cc8fa860",
       "version_major": 2,
       "version_minor": 0
      },
      "text/plain": [
       "  0%|          | 0/100 [00:00<?, ?it/s]"
      ]
     },
     "metadata": {},
     "output_type": "display_data"
    },
    {
     "name": "stdout",
     "output_type": "stream",
     "text": [
      "5 attributes confirmed important: [' f__UCG-010', ' f__Erysipelotrichaceae', ' f__Peptostreptococcaceae', ' f__Akkermansiaceae', ' f__RF39']\n",
      "46 attributes confirmed unimportant: [' f__Lactobacillaceae', ' f__Sphingomonadaceae', ' f__Morganellaceae', ' f__Moorellaceae', ' f__Spirosomaceae', ' f__Oscillospiraceae', ' f__Rikenellaceae', ' f__Bacteroidaceae', ' f__Saccharimonadaceae', ' f__Marinifilaceae', ' f__Bacillaceae', ' f__uncultured', ' f__Anaerofustaceae', ' f__Clostridia_vadinBB60_group', ' f__Eggerthellaceae', ' f__Deferribacteraceae', ' f__Clostridiaceae', ' f__Prevotellaceae', ' f__[Eubacterium]_coprostanoligenes_group', ' f__Desulfovibrionaceae', ' f__Clostridia_UCG-014', ' f__Xanthomonadaceae', ' f__Erysipelatoclostridiaceae', ' f__Moraxellaceae', ' f__Hungateiclostridiaceae', ' f__Peptococcaceae', ' f__AKAU3644', ' f__Enterobacteriaceae', ' f__Sutterellaceae', ' f__Ruminococcaceae', ' f__Christensenellaceae', ' f__Weeksellaceae', ' f__Bifidobacteriaceae', ' f__Beggiatoaceae', ' f__Alicyclobacillaceae', ' f__Lachnospiraceae', ' f__Streptococcaceae', ' f__Oscillospirales', ' f__Monoglobaceae', ' f__Atopobiaceae', ' f__Gastranaerophilales', ' f__Anaerovoracaceae', ' f__Tannerellaceae', ' f__Muribaculaceae', ' f__Acholeplasmataceae', ' f__Butyricicoccaceae']\n",
      "1 tentative attributes remains: [' f__Enterococcaceae']\n",
      "Fold 1:\n",
      "Training dataset index: [ 0  1  2  3  4  5  6  7  8  9 20 21 22 23 24 25 26 27 28 29 30 31 32 33\n",
      " 34 35 36 37 38 39 40 41 42 43 44 45 46]\n",
      "Testing dataset index: [10 11 12 13 14 15 16 17 18 19]\n"
     ]
    },
    {
     "data": {
      "application/vnd.jupyter.widget-view+json": {
       "model_id": "8ad9ece6c84940ba906d3b87179f5c41",
       "version_major": 2,
       "version_minor": 0
      },
      "text/plain": [
       "  0%|          | 0/100 [00:00<?, ?it/s]"
      ]
     },
     "metadata": {},
     "output_type": "display_data"
    },
    {
     "name": "stdout",
     "output_type": "stream",
     "text": [
      "5 attributes confirmed important: [' f__Deferribacteraceae', ' f__Erysipelotrichaceae', ' f__Peptostreptococcaceae', ' f__Akkermansiaceae', ' f__Enterococcaceae']\n",
      "44 attributes confirmed unimportant: [' f__Lactobacillaceae', ' f__Sphingomonadaceae', ' f__Morganellaceae', ' f__Moorellaceae', ' f__Spirosomaceae', ' f__Oscillospiraceae', ' f__Rikenellaceae', ' f__Bacteroidaceae', ' f__Saccharimonadaceae', ' f__Marinifilaceae', ' f__Bacillaceae', ' f__uncultured', ' f__Anaerofustaceae', ' f__Clostridia_vadinBB60_group', ' f__Eggerthellaceae', ' f__Clostridiaceae', ' f__Prevotellaceae', ' f__Desulfovibrionaceae', ' f__Clostridia_UCG-014', ' f__Xanthomonadaceae', ' f__Erysipelatoclostridiaceae', ' f__Moraxellaceae', ' f__Hungateiclostridiaceae', ' f__Peptococcaceae', ' f__UCG-010', ' f__AKAU3644', ' f__Sutterellaceae', ' f__Ruminococcaceae', ' f__Christensenellaceae', ' f__Weeksellaceae', ' f__Bifidobacteriaceae', ' f__Beggiatoaceae', ' f__Alicyclobacillaceae', ' f__Lachnospiraceae', ' f__Streptococcaceae', ' f__Oscillospirales', ' f__Monoglobaceae', ' f__Atopobiaceae', ' f__Gastranaerophilales', ' f__Anaerovoracaceae', ' f__Muribaculaceae', ' f__Acholeplasmataceae', ' f__Butyricicoccaceae', ' f__RF39']\n",
      "3 tentative attributes remains: [' f__[Eubacterium]_coprostanoligenes_group', ' f__Tannerellaceae', ' f__Enterobacteriaceae']\n",
      "Fold 2:\n",
      "Training dataset index: [ 0  1  2  3  4  5  6  7  8  9 10 11 12 13 14 15 16 17 18 19 29 30 31 32\n",
      " 33 34 35 36 37 38 39 40 41 42 43 44 45 46]\n",
      "Testing dataset index: [20 21 22 23 24 25 26 27 28]\n"
     ]
    },
    {
     "data": {
      "application/vnd.jupyter.widget-view+json": {
       "model_id": "8a56601ef5b842d3bc065045ddcec62d",
       "version_major": 2,
       "version_minor": 0
      },
      "text/plain": [
       "  0%|          | 0/100 [00:00<?, ?it/s]"
      ]
     },
     "metadata": {},
     "output_type": "display_data"
    },
    {
     "name": "stdout",
     "output_type": "stream",
     "text": [
      "7 attributes confirmed important: [' f__Peptococcaceae', ' f__Erysipelotrichaceae', ' f__[Eubacterium]_coprostanoligenes_group', ' f__Desulfovibrionaceae', ' f__Peptostreptococcaceae', ' f__Akkermansiaceae', ' f__Enterococcaceae']\n",
      "43 attributes confirmed unimportant: [' f__Lactobacillaceae', ' f__Sphingomonadaceae', ' f__Morganellaceae', ' f__Moorellaceae', ' f__Spirosomaceae', ' f__Rikenellaceae', ' f__Oscillospiraceae', ' f__Bacteroidaceae', ' f__Saccharimonadaceae', ' f__Marinifilaceae', ' f__Bacillaceae', ' f__uncultured', ' f__Anaerofustaceae', ' f__Clostridia_vadinBB60_group', ' f__Eggerthellaceae', ' f__Deferribacteraceae', ' f__Clostridiaceae', ' f__Prevotellaceae', ' f__Clostridia_UCG-014', ' f__Xanthomonadaceae', ' f__Erysipelatoclostridiaceae', ' f__Moraxellaceae', ' f__Hungateiclostridiaceae', ' f__UCG-010', ' f__AKAU3644', ' f__Sutterellaceae', ' f__Ruminococcaceae', ' f__Christensenellaceae', ' f__Weeksellaceae', ' f__Bifidobacteriaceae', ' f__Beggiatoaceae', ' f__Alicyclobacillaceae', ' f__Lachnospiraceae', ' f__Streptococcaceae', ' f__Oscillospirales', ' f__Monoglobaceae', ' f__Atopobiaceae', ' f__Gastranaerophilales', ' f__Anaerovoracaceae', ' f__Muribaculaceae', ' f__Acholeplasmataceae', ' f__Butyricicoccaceae', ' f__RF39']\n",
      "2 tentative attributes remains: [' f__Tannerellaceae', ' f__Enterobacteriaceae']\n",
      "Fold 3:\n",
      "Training dataset index: [ 0  1  2  3  4  5  6  7  8  9 10 11 12 13 14 15 16 17 18 19 20 21 22 23\n",
      " 24 25 26 27 28 38 39 40 41 42 43 44 45 46]\n",
      "Testing dataset index: [29 30 31 32 33 34 35 36 37]\n"
     ]
    },
    {
     "data": {
      "application/vnd.jupyter.widget-view+json": {
       "model_id": "5149ce707866469e8c1b2df5fb306eee",
       "version_major": 2,
       "version_minor": 0
      },
      "text/plain": [
       "  0%|          | 0/100 [00:00<?, ?it/s]"
      ]
     },
     "metadata": {},
     "output_type": "display_data"
    },
    {
     "name": "stdout",
     "output_type": "stream",
     "text": [
      "5 attributes confirmed important: [' f__Erysipelotrichaceae', ' f__[Eubacterium]_coprostanoligenes_group', ' f__Peptostreptococcaceae', ' f__Akkermansiaceae', ' f__Enterococcaceae']\n",
      "46 attributes confirmed unimportant: [' f__Lactobacillaceae', ' f__Sphingomonadaceae', ' f__Morganellaceae', ' f__Moorellaceae', ' f__Spirosomaceae', ' f__Oscillospiraceae', ' f__Rikenellaceae', ' f__Bacteroidaceae', ' f__Saccharimonadaceae', ' f__Marinifilaceae', ' f__Bacillaceae', ' f__uncultured', ' f__Anaerofustaceae', ' f__Clostridia_vadinBB60_group', ' f__Eggerthellaceae', ' f__Deferribacteraceae', ' f__Clostridiaceae', ' f__Prevotellaceae', ' f__Desulfovibrionaceae', ' f__Clostridia_UCG-014', ' f__Xanthomonadaceae', ' f__Erysipelatoclostridiaceae', ' f__Moraxellaceae', ' f__Hungateiclostridiaceae', ' f__Peptococcaceae', ' f__UCG-010', ' f__AKAU3644', ' f__Enterobacteriaceae', ' f__Sutterellaceae', ' f__Ruminococcaceae', ' f__Christensenellaceae', ' f__Weeksellaceae', ' f__Bifidobacteriaceae', ' f__Beggiatoaceae', ' f__Alicyclobacillaceae', ' f__Lachnospiraceae', ' f__Streptococcaceae', ' f__Oscillospirales', ' f__Monoglobaceae', ' f__Atopobiaceae', ' f__Gastranaerophilales', ' f__Anaerovoracaceae', ' f__Tannerellaceae', ' f__Muribaculaceae', ' f__Acholeplasmataceae', ' f__Butyricicoccaceae']\n",
      "1 tentative attributes remains: [' f__RF39']\n",
      "Fold 4:\n",
      "Training dataset index: [ 0  1  2  3  4  5  6  7  8  9 10 11 12 13 14 15 16 17 18 19 20 21 22 23\n",
      " 24 25 26 27 28 29 30 31 32 33 34 35 36 37]\n",
      "Testing dataset index: [38 39 40 41 42 43 44 45 46]\n"
     ]
    },
    {
     "data": {
      "application/vnd.jupyter.widget-view+json": {
       "model_id": "4b1ac79ebe6749c7a0e7ebdb17323966",
       "version_major": 2,
       "version_minor": 0
      },
      "text/plain": [
       "  0%|          | 0/100 [00:00<?, ?it/s]"
      ]
     },
     "metadata": {},
     "output_type": "display_data"
    },
    {
     "name": "stdout",
     "output_type": "stream",
     "text": [
      "4 attributes confirmed important: [' f__Enterococcaceae', ' f__[Eubacterium]_coprostanoligenes_group', ' f__Akkermansiaceae', ' f__Erysipelotrichaceae']\n",
      "44 attributes confirmed unimportant: [' f__Lactobacillaceae', ' f__Sphingomonadaceae', ' f__Morganellaceae', ' f__Moorellaceae', ' f__Spirosomaceae', ' f__Oscillospiraceae', ' f__Rikenellaceae', ' f__Bacteroidaceae', ' f__Saccharimonadaceae', ' f__Marinifilaceae', ' f__Bacillaceae', ' f__uncultured', ' f__Anaerofustaceae', ' f__Clostridia_vadinBB60_group', ' f__Eggerthellaceae', ' f__Deferribacteraceae', ' f__Clostridiaceae', ' f__Prevotellaceae', ' f__Desulfovibrionaceae', ' f__Clostridia_UCG-014', ' f__Xanthomonadaceae', ' f__Erysipelatoclostridiaceae', ' f__Moraxellaceae', ' f__Hungateiclostridiaceae', ' f__Peptococcaceae', ' f__UCG-010', ' f__AKAU3644', ' f__Sutterellaceae', ' f__Ruminococcaceae', ' f__Christensenellaceae', ' f__Weeksellaceae', ' f__Bifidobacteriaceae', ' f__Beggiatoaceae', ' f__Alicyclobacillaceae', ' f__Lachnospiraceae', ' f__Streptococcaceae', ' f__Oscillospirales', ' f__Monoglobaceae', ' f__Atopobiaceae', ' f__Gastranaerophilales', ' f__Anaerovoracaceae', ' f__Tannerellaceae', ' f__Muribaculaceae', ' f__Acholeplasmataceae']\n",
      "4 tentative attributes remains: [' f__Enterobacteriaceae', ' f__Peptostreptococcaceae', ' f__RF39', ' f__Butyricicoccaceae']\n"
     ]
    }
   ],
   "source": [
    "bloom_bs_acc_train = {}\n",
    "for label, boruta_shap in borutaShap_dict.items():\n",
    "    bloom_results = kfold_boruta_shap(k_fold=kf,\n",
    "                                      feature_selector=boruta_shap,\n",
    "                                      x_dataframe=bloom_x_df,\n",
    "                                      y_dataframe=bloom_y_df,\n",
    "                                      trial_num=100,\n",
    "                                      run_name=\"bloom\")\n",
    "    \n",
    "    ## pulling out boruta shap accepted features \n",
    "    ## training data\n",
    "    bloom_train_list = bloom_results[\"bloom_train\"]\n",
    "    bs_bloom_train_df = create_occurence_table(input_list=bloom_train_list)\n",
    "    bs_bloom_train_df[\"bs_model\"] = label\n",
    "\n",
    "    bloom_bs_acc_train.update({f\"{label}_accepted\": bs_bloom_train_df})\n",
    "\n",
    "\n",
    "bloom_train_features = pd.concat(bloom_bs_acc_train, ignore_index=True)"
   ]
  },
  {
   "cell_type": "markdown",
   "metadata": {},
   "source": [
    "- f_RF39: unclassified enterococcaceae bacterium\n",
    "- f_UCG-010: i have no idea, after looking it up on the silva database website (the database I used to classify the taxonomy for this data in qiime), they're not sure where to place it (insertae sedis) but there's a bunch of uncultured clostridiales/clostridiaceae bacterium under it (I wouldn't be too dependent on that though bc there's 973 unclassified bacterium that are under UCG-010)"
   ]
  },
  {
   "cell_type": "code",
   "execution_count": 11,
   "metadata": {},
   "outputs": [
    {
     "data": {
      "text/html": [
       "<div>\n",
       "<style scoped>\n",
       "    .dataframe tbody tr th:only-of-type {\n",
       "        vertical-align: middle;\n",
       "    }\n",
       "\n",
       "    .dataframe tbody tr th {\n",
       "        vertical-align: top;\n",
       "    }\n",
       "\n",
       "    .dataframe thead th {\n",
       "        text-align: right;\n",
       "    }\n",
       "</style>\n",
       "<table border=\"1\" class=\"dataframe\">\n",
       "  <thead>\n",
       "    <tr style=\"text-align: right;\">\n",
       "      <th></th>\n",
       "      <th>feature</th>\n",
       "      <th>num_occurences</th>\n",
       "      <th>av_occurences</th>\n",
       "      <th>bs_model</th>\n",
       "    </tr>\n",
       "  </thead>\n",
       "  <tbody>\n",
       "    <tr>\n",
       "      <th>0</th>\n",
       "      <td>f__Akkermansiaceae</td>\n",
       "      <td>5</td>\n",
       "      <td>1.0</td>\n",
       "      <td>random_forest</td>\n",
       "    </tr>\n",
       "    <tr>\n",
       "      <th>1</th>\n",
       "      <td>f__Erysipelotrichaceae</td>\n",
       "      <td>5</td>\n",
       "      <td>1.0</td>\n",
       "      <td>random_forest</td>\n",
       "    </tr>\n",
       "    <tr>\n",
       "      <th>2</th>\n",
       "      <td>f__Enterococcaceae</td>\n",
       "      <td>4</td>\n",
       "      <td>0.8</td>\n",
       "      <td>random_forest</td>\n",
       "    </tr>\n",
       "    <tr>\n",
       "      <th>3</th>\n",
       "      <td>f__Peptostreptococcaceae</td>\n",
       "      <td>4</td>\n",
       "      <td>0.8</td>\n",
       "      <td>random_forest</td>\n",
       "    </tr>\n",
       "    <tr>\n",
       "      <th>4</th>\n",
       "      <td>f__[Eubacterium]_coprostanoligenes_group</td>\n",
       "      <td>3</td>\n",
       "      <td>0.6</td>\n",
       "      <td>random_forest</td>\n",
       "    </tr>\n",
       "    <tr>\n",
       "      <th>5</th>\n",
       "      <td>f__Deferribacteraceae</td>\n",
       "      <td>1</td>\n",
       "      <td>0.2</td>\n",
       "      <td>random_forest</td>\n",
       "    </tr>\n",
       "    <tr>\n",
       "      <th>6</th>\n",
       "      <td>f__Desulfovibrionaceae</td>\n",
       "      <td>1</td>\n",
       "      <td>0.2</td>\n",
       "      <td>random_forest</td>\n",
       "    </tr>\n",
       "    <tr>\n",
       "      <th>7</th>\n",
       "      <td>f__Peptococcaceae</td>\n",
       "      <td>1</td>\n",
       "      <td>0.2</td>\n",
       "      <td>random_forest</td>\n",
       "    </tr>\n",
       "    <tr>\n",
       "      <th>8</th>\n",
       "      <td>f__RF39</td>\n",
       "      <td>1</td>\n",
       "      <td>0.2</td>\n",
       "      <td>random_forest</td>\n",
       "    </tr>\n",
       "    <tr>\n",
       "      <th>9</th>\n",
       "      <td>f__UCG-010</td>\n",
       "      <td>1</td>\n",
       "      <td>0.2</td>\n",
       "      <td>random_forest</td>\n",
       "    </tr>\n",
       "  </tbody>\n",
       "</table>\n",
       "</div>"
      ],
      "text/plain": [
       "                                     feature num_occurences av_occurences  \\\n",
       "0                         f__Akkermansiaceae              5           1.0   \n",
       "1                     f__Erysipelotrichaceae              5           1.0   \n",
       "2                         f__Enterococcaceae              4           0.8   \n",
       "3                   f__Peptostreptococcaceae              4           0.8   \n",
       "4   f__[Eubacterium]_coprostanoligenes_group              3           0.6   \n",
       "5                      f__Deferribacteraceae              1           0.2   \n",
       "6                     f__Desulfovibrionaceae              1           0.2   \n",
       "7                          f__Peptococcaceae              1           0.2   \n",
       "8                                    f__RF39              1           0.2   \n",
       "9                                 f__UCG-010              1           0.2   \n",
       "\n",
       "        bs_model  \n",
       "0  random_forest  \n",
       "1  random_forest  \n",
       "2  random_forest  \n",
       "3  random_forest  \n",
       "4  random_forest  \n",
       "5  random_forest  \n",
       "6  random_forest  \n",
       "7  random_forest  \n",
       "8  random_forest  \n",
       "9  random_forest  "
      ]
     },
     "execution_count": 11,
     "metadata": {},
     "output_type": "execute_result"
    }
   ],
   "source": [
    "bloom_train_features"
   ]
  },
  {
   "cell_type": "markdown",
   "metadata": {},
   "source": [
    "## Diet"
   ]
  },
  {
   "cell_type": "code",
   "execution_count": 14,
   "metadata": {},
   "outputs": [],
   "source": [
    "## creating x and y dataframes for kfold and boruta shap analysis\n",
    "diet_xy = make_xy_tables(meta_df=meta,\n",
    "                         otu_df=family_deltas_df,\n",
    "                         merge_on=\"mouse_id\",\n",
    "                         y_col=\"diet\")\n",
    "\n",
    "diet_x_df = diet_xy[\"x_dataframe\"]\n",
    "diet_y_df = diet_xy[\"y_dataframe\"]"
   ]
  },
  {
   "cell_type": "code",
   "execution_count": 17,
   "metadata": {},
   "outputs": [
    {
     "name": "stdout",
     "output_type": "stream",
     "text": [
      "Fold 0:\n",
      "Training dataset index: [10 11 12 13 14 15 16 17 18 19 20 21 22 23 24 25 26 27 28 29 30 31 32 33\n",
      " 34 35 36 37 38 39 40 41 42 43 44 45 46 47 48 49]\n",
      "Testing dataset index: [0 1 2 3 4 5 6 7 8 9]\n"
     ]
    },
    {
     "data": {
      "application/vnd.jupyter.widget-view+json": {
       "model_id": "996bb12483bd4c8eb110d5c8567343b2",
       "version_major": 2,
       "version_minor": 0
      },
      "text/plain": [
       "  0%|          | 0/100 [00:00<?, ?it/s]"
      ]
     },
     "metadata": {},
     "output_type": "display_data"
    },
    {
     "name": "stdout",
     "output_type": "stream",
     "text": [
      "0 attributes confirmed important: []\n",
      "52 attributes confirmed unimportant: [' f__Monoglobaceae', ' f__Weeksellaceae', ' f__Beggiatoaceae', ' f__RF39', ' f__Xanthomonadaceae', ' f__Streptococcaceae', ' f__Gastranaerophilales', ' f__Tannerellaceae', ' f__Erysipelatoclostridiaceae', ' f__Bacteroidaceae', ' f__Oscillospiraceae', ' f__Erysipelotrichaceae', ' f__Peptococcaceae', ' f__Spirosomaceae', ' f__Bifidobacteriaceae', ' f__Moorellaceae', ' f__Oscillospirales', ' f__Butyricicoccaceae', ' f__Clostridiaceae', ' f__Moraxellaceae', ' f__Christensenellaceae', ' f__Deferribacteraceae', ' f__Saccharimonadaceae', ' f__Prevotellaceae', ' f__Lactobacillaceae', ' f__Alicyclobacillaceae', ' f__AKAU3644', ' f__[Eubacterium]_coprostanoligenes_group', ' f__Sutterellaceae', ' f__Peptostreptococcaceae', ' f__Anaerovoracaceae', ' f__Anaerofustaceae', ' f__Enterobacteriaceae', ' f__Bacillaceae', ' f__Enterococcaceae', ' f__Clostridia_vadinBB60_group', ' f__Hungateiclostridiaceae', ' f__Ruminococcaceae', ' f__UCG-010', ' f__Acholeplasmataceae', ' f__Eggerthellaceae', ' f__Marinifilaceae', ' f__Lachnospiraceae', ' f__Morganellaceae', ' f__uncultured', ' f__Desulfovibrionaceae', ' f__Atopobiaceae', ' f__Clostridia_UCG-014', ' f__Muribaculaceae', ' f__Rikenellaceae', ' f__Sphingomonadaceae', ' f__Akkermansiaceae']\n",
      "0 tentative attributes remains: []\n",
      "Fold 1:\n",
      "Training dataset index: [ 0  1  2  3  4  5  6  7  8  9 20 21 22 23 24 25 26 27 28 29 30 31 32 33\n",
      " 34 35 36 37 38 39 40 41 42 43 44 45 46 47 48 49]\n",
      "Testing dataset index: [10 11 12 13 14 15 16 17 18 19]\n"
     ]
    },
    {
     "data": {
      "application/vnd.jupyter.widget-view+json": {
       "model_id": "92899ab9e0744724900e674aa733e0d3",
       "version_major": 2,
       "version_minor": 0
      },
      "text/plain": [
       "  0%|          | 0/100 [00:00<?, ?it/s]"
      ]
     },
     "metadata": {},
     "output_type": "display_data"
    },
    {
     "name": "stdout",
     "output_type": "stream",
     "text": [
      "3 attributes confirmed important: [' f__Rikenellaceae', ' f__Butyricicoccaceae', ' f__Erysipelatoclostridiaceae']\n",
      "49 attributes confirmed unimportant: [' f__Monoglobaceae', ' f__Weeksellaceae', ' f__Beggiatoaceae', ' f__RF39', ' f__Xanthomonadaceae', ' f__Streptococcaceae', ' f__Gastranaerophilales', ' f__Tannerellaceae', ' f__Bacteroidaceae', ' f__Oscillospiraceae', ' f__Erysipelotrichaceae', ' f__Peptococcaceae', ' f__Spirosomaceae', ' f__Bifidobacteriaceae', ' f__Moorellaceae', ' f__Oscillospirales', ' f__Clostridiaceae', ' f__Moraxellaceae', ' f__Christensenellaceae', ' f__Deferribacteraceae', ' f__Saccharimonadaceae', ' f__Prevotellaceae', ' f__Lactobacillaceae', ' f__Alicyclobacillaceae', ' f__AKAU3644', ' f__Peptostreptococcaceae', ' f__Sutterellaceae', ' f__[Eubacterium]_coprostanoligenes_group', ' f__Anaerovoracaceae', ' f__Anaerofustaceae', ' f__Enterobacteriaceae', ' f__Bacillaceae', ' f__Enterococcaceae', ' f__Clostridia_vadinBB60_group', ' f__Hungateiclostridiaceae', ' f__Ruminococcaceae', ' f__UCG-010', ' f__Acholeplasmataceae', ' f__Eggerthellaceae', ' f__Marinifilaceae', ' f__Lachnospiraceae', ' f__Morganellaceae', ' f__uncultured', ' f__Desulfovibrionaceae', ' f__Atopobiaceae', ' f__Muribaculaceae', ' f__Clostridia_UCG-014', ' f__Sphingomonadaceae', ' f__Akkermansiaceae']\n",
      "0 tentative attributes remains: []\n",
      "Fold 2:\n",
      "Training dataset index: [ 0  1  2  3  4  5  6  7  8  9 10 11 12 13 14 15 16 17 18 19 30 31 32 33\n",
      " 34 35 36 37 38 39 40 41 42 43 44 45 46 47 48 49]\n",
      "Testing dataset index: [20 21 22 23 24 25 26 27 28 29]\n"
     ]
    },
    {
     "data": {
      "application/vnd.jupyter.widget-view+json": {
       "model_id": "53411b00b41d47e2bdbbc8a4384a990e",
       "version_major": 2,
       "version_minor": 0
      },
      "text/plain": [
       "  0%|          | 0/100 [00:00<?, ?it/s]"
      ]
     },
     "metadata": {},
     "output_type": "display_data"
    },
    {
     "name": "stdout",
     "output_type": "stream",
     "text": [
      "0 attributes confirmed important: []\n",
      "52 attributes confirmed unimportant: [' f__Monoglobaceae', ' f__Weeksellaceae', ' f__Beggiatoaceae', ' f__RF39', ' f__Xanthomonadaceae', ' f__Streptococcaceae', ' f__Gastranaerophilales', ' f__Tannerellaceae', ' f__Erysipelatoclostridiaceae', ' f__Bacteroidaceae', ' f__Oscillospiraceae', ' f__Erysipelotrichaceae', ' f__Peptococcaceae', ' f__Spirosomaceae', ' f__Bifidobacteriaceae', ' f__Butyricicoccaceae', ' f__Moorellaceae', ' f__Oscillospirales', ' f__Clostridiaceae', ' f__Moraxellaceae', ' f__Christensenellaceae', ' f__Deferribacteraceae', ' f__Saccharimonadaceae', ' f__Prevotellaceae', ' f__Lactobacillaceae', ' f__Alicyclobacillaceae', ' f__AKAU3644', ' f__Peptostreptococcaceae', ' f__Sutterellaceae', ' f__[Eubacterium]_coprostanoligenes_group', ' f__Anaerovoracaceae', ' f__Anaerofustaceae', ' f__Enterobacteriaceae', ' f__Bacillaceae', ' f__Enterococcaceae', ' f__Clostridia_vadinBB60_group', ' f__Hungateiclostridiaceae', ' f__Ruminococcaceae', ' f__UCG-010', ' f__Acholeplasmataceae', ' f__Eggerthellaceae', ' f__Marinifilaceae', ' f__Lachnospiraceae', ' f__Morganellaceae', ' f__uncultured', ' f__Desulfovibrionaceae', ' f__Atopobiaceae', ' f__Clostridia_UCG-014', ' f__Muribaculaceae', ' f__Rikenellaceae', ' f__Sphingomonadaceae', ' f__Akkermansiaceae']\n",
      "0 tentative attributes remains: []\n",
      "Fold 3:\n",
      "Training dataset index: [ 0  1  2  3  4  5  6  7  8  9 10 11 12 13 14 15 16 17 18 19 20 21 22 23\n",
      " 24 25 26 27 28 29 40 41 42 43 44 45 46 47 48 49]\n",
      "Testing dataset index: [30 31 32 33 34 35 36 37 38 39]\n"
     ]
    },
    {
     "data": {
      "application/vnd.jupyter.widget-view+json": {
       "model_id": "c2cc3bdf601740148592eb015573dc4d",
       "version_major": 2,
       "version_minor": 0
      },
      "text/plain": [
       "  0%|          | 0/100 [00:00<?, ?it/s]"
      ]
     },
     "metadata": {},
     "output_type": "display_data"
    },
    {
     "name": "stdout",
     "output_type": "stream",
     "text": [
      "0 attributes confirmed important: []\n",
      "52 attributes confirmed unimportant: [' f__Monoglobaceae', ' f__Weeksellaceae', ' f__Beggiatoaceae', ' f__RF39', ' f__Xanthomonadaceae', ' f__Streptococcaceae', ' f__Gastranaerophilales', ' f__Tannerellaceae', ' f__Erysipelatoclostridiaceae', ' f__Bacteroidaceae', ' f__Oscillospiraceae', ' f__Erysipelotrichaceae', ' f__Peptococcaceae', ' f__Spirosomaceae', ' f__Bifidobacteriaceae', ' f__Butyricicoccaceae', ' f__Moorellaceae', ' f__Oscillospirales', ' f__Clostridiaceae', ' f__Moraxellaceae', ' f__Christensenellaceae', ' f__Deferribacteraceae', ' f__Saccharimonadaceae', ' f__Prevotellaceae', ' f__Lactobacillaceae', ' f__Alicyclobacillaceae', ' f__AKAU3644', ' f__Peptostreptococcaceae', ' f__Sutterellaceae', ' f__[Eubacterium]_coprostanoligenes_group', ' f__Anaerovoracaceae', ' f__Anaerofustaceae', ' f__Enterobacteriaceae', ' f__Bacillaceae', ' f__Enterococcaceae', ' f__Clostridia_vadinBB60_group', ' f__Hungateiclostridiaceae', ' f__Ruminococcaceae', ' f__UCG-010', ' f__Acholeplasmataceae', ' f__Eggerthellaceae', ' f__Marinifilaceae', ' f__Lachnospiraceae', ' f__Morganellaceae', ' f__uncultured', ' f__Desulfovibrionaceae', ' f__Atopobiaceae', ' f__Muribaculaceae', ' f__Clostridia_UCG-014', ' f__Rikenellaceae', ' f__Sphingomonadaceae', ' f__Akkermansiaceae']\n",
      "0 tentative attributes remains: []\n",
      "Fold 4:\n",
      "Training dataset index: [ 0  1  2  3  4  5  6  7  8  9 10 11 12 13 14 15 16 17 18 19 20 21 22 23\n",
      " 24 25 26 27 28 29 30 31 32 33 34 35 36 37 38 39]\n",
      "Testing dataset index: [40 41 42 43 44 45 46 47 48 49]\n"
     ]
    },
    {
     "data": {
      "application/vnd.jupyter.widget-view+json": {
       "model_id": "4376d4c557464d8b8e5305d3eb1ecc0e",
       "version_major": 2,
       "version_minor": 0
      },
      "text/plain": [
       "  0%|          | 0/100 [00:00<?, ?it/s]"
      ]
     },
     "metadata": {},
     "output_type": "display_data"
    },
    {
     "name": "stdout",
     "output_type": "stream",
     "text": [
      "0 attributes confirmed important: []\n",
      "52 attributes confirmed unimportant: [' f__Monoglobaceae', ' f__Weeksellaceae', ' f__Beggiatoaceae', ' f__RF39', ' f__Xanthomonadaceae', ' f__Streptococcaceae', ' f__Gastranaerophilales', ' f__Tannerellaceae', ' f__Erysipelatoclostridiaceae', ' f__Bacteroidaceae', ' f__Oscillospiraceae', ' f__Erysipelotrichaceae', ' f__Peptococcaceae', ' f__Spirosomaceae', ' f__Bifidobacteriaceae', ' f__Butyricicoccaceae', ' f__Moorellaceae', ' f__Oscillospirales', ' f__Clostridiaceae', ' f__Moraxellaceae', ' f__Christensenellaceae', ' f__Deferribacteraceae', ' f__Saccharimonadaceae', ' f__Prevotellaceae', ' f__Lactobacillaceae', ' f__Alicyclobacillaceae', ' f__AKAU3644', ' f__Peptostreptococcaceae', ' f__Sutterellaceae', ' f__[Eubacterium]_coprostanoligenes_group', ' f__Anaerovoracaceae', ' f__Anaerofustaceae', ' f__Enterobacteriaceae', ' f__Bacillaceae', ' f__Enterococcaceae', ' f__Clostridia_vadinBB60_group', ' f__Hungateiclostridiaceae', ' f__Ruminococcaceae', ' f__UCG-010', ' f__Acholeplasmataceae', ' f__Eggerthellaceae', ' f__Marinifilaceae', ' f__Lachnospiraceae', ' f__Morganellaceae', ' f__uncultured', ' f__Desulfovibrionaceae', ' f__Atopobiaceae', ' f__Clostridia_UCG-014', ' f__Muribaculaceae', ' f__Rikenellaceae', ' f__Sphingomonadaceae', ' f__Akkermansiaceae']\n",
      "0 tentative attributes remains: []\n"
     ]
    }
   ],
   "source": [
    "## I can't use both random forest and gradient boosting classifiers on the diet data since it's not binary\n",
    "## and its not supported :(\n",
    "diet_results = kfold_boruta_shap(k_fold=kf,\n",
    "                                 feature_selector=random_forest_bs,\n",
    "                                 x_dataframe=diet_x_df,\n",
    "                                 y_dataframe=diet_y_df,\n",
    "                                 trial_num=100,\n",
    "                                 run_name='diet')"
   ]
  },
  {
   "cell_type": "code",
   "execution_count": 18,
   "metadata": {},
   "outputs": [
    {
     "data": {
      "text/html": [
       "<div>\n",
       "<style scoped>\n",
       "    .dataframe tbody tr th:only-of-type {\n",
       "        vertical-align: middle;\n",
       "    }\n",
       "\n",
       "    .dataframe tbody tr th {\n",
       "        vertical-align: top;\n",
       "    }\n",
       "\n",
       "    .dataframe thead th {\n",
       "        text-align: right;\n",
       "    }\n",
       "</style>\n",
       "<table border=\"1\" class=\"dataframe\">\n",
       "  <thead>\n",
       "    <tr style=\"text-align: right;\">\n",
       "      <th></th>\n",
       "      <th>feature</th>\n",
       "      <th>num_occurences</th>\n",
       "      <th>av_occurences</th>\n",
       "    </tr>\n",
       "  </thead>\n",
       "  <tbody>\n",
       "    <tr>\n",
       "      <th>0</th>\n",
       "      <td>f__Butyricicoccaceae</td>\n",
       "      <td>1</td>\n",
       "      <td>0.2</td>\n",
       "    </tr>\n",
       "    <tr>\n",
       "      <th>1</th>\n",
       "      <td>f__Erysipelatoclostridiaceae</td>\n",
       "      <td>1</td>\n",
       "      <td>0.2</td>\n",
       "    </tr>\n",
       "    <tr>\n",
       "      <th>2</th>\n",
       "      <td>f__Rikenellaceae</td>\n",
       "      <td>1</td>\n",
       "      <td>0.2</td>\n",
       "    </tr>\n",
       "  </tbody>\n",
       "</table>\n",
       "</div>"
      ],
      "text/plain": [
       "                         feature num_occurences av_occurences\n",
       "0           f__Butyricicoccaceae              1           0.2\n",
       "1   f__Erysipelatoclostridiaceae              1           0.2\n",
       "2               f__Rikenellaceae              1           0.2"
      ]
     },
     "execution_count": 18,
     "metadata": {},
     "output_type": "execute_result"
    }
   ],
   "source": [
    "## selected features from boruta shap on training data \n",
    "diet_train_list = diet_results[\"diet_train\"]\n",
    "bs_diet_train_df = create_occurence_table(input_list=diet_train_list)\n",
    "\n",
    "bs_diet_train_df"
   ]
  },
  {
   "cell_type": "markdown",
   "metadata": {},
   "source": [
    "**Saving my outputs**"
   ]
  },
  {
   "cell_type": "code",
   "execution_count": 16,
   "metadata": {},
   "outputs": [],
   "source": [
    "## bloom status\n",
    "bloom_train_features.to_csv(\"../data/outputs/borutaShap_bloom_train.tsv\", sep=\"\\t\")\n",
    "\n",
    "## diet\n",
    "bs_diet_train_df.to_csv(\"../data/outputs/borutaShap_diet_train.tsv\", sep=\"\\t\")"
   ]
  }
 ],
 "metadata": {
  "kernelspec": {
   "display_name": "ml",
   "language": "python",
   "name": "python3"
  },
  "language_info": {
   "codemirror_mode": {
    "name": "ipython",
    "version": 3
   },
   "file_extension": ".py",
   "mimetype": "text/x-python",
   "name": "python",
   "nbconvert_exporter": "python",
   "pygments_lexer": "ipython3",
   "version": "3.12.0"
  }
 },
 "nbformat": 4,
 "nbformat_minor": 2
}
